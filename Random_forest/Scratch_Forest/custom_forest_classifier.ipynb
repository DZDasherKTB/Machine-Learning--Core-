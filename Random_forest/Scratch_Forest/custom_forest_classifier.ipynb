{
 "cells": [
  {
   "cell_type": "code",
   "execution_count": 2,
   "id": "1c7e5c32",
   "metadata": {},
   "outputs": [],
   "source": [
    "import numpy as np\n",
    "import pandas as pd\n",
    "from sklearn.datasets import make_classification\n",
    "import random"
   ]
  },
  {
   "cell_type": "code",
   "execution_count": 3,
   "id": "2e6d663b",
   "metadata": {},
   "outputs": [],
   "source": [
    "x,y = make_classification(n_features=5,n_redundant=0,n_informative=5,n_clusters_per_class=1)"
   ]
  },
  {
   "cell_type": "code",
   "execution_count": 4,
   "id": "e7d37572",
   "metadata": {},
   "outputs": [
    {
     "name": "stdout",
     "output_type": "stream",
     "text": [
      "(100, 6)\n"
     ]
    },
    {
     "data": {
      "text/html": [
       "<div>\n",
       "<style scoped>\n",
       "    .dataframe tbody tr th:only-of-type {\n",
       "        vertical-align: middle;\n",
       "    }\n",
       "\n",
       "    .dataframe tbody tr th {\n",
       "        vertical-align: top;\n",
       "    }\n",
       "\n",
       "    .dataframe thead th {\n",
       "        text-align: right;\n",
       "    }\n",
       "</style>\n",
       "<table border=\"1\" class=\"dataframe\">\n",
       "  <thead>\n",
       "    <tr style=\"text-align: right;\">\n",
       "      <th></th>\n",
       "      <th>col1</th>\n",
       "      <th>col2</th>\n",
       "      <th>col3</th>\n",
       "      <th>col4</th>\n",
       "      <th>col5</th>\n",
       "      <th>target</th>\n",
       "    </tr>\n",
       "  </thead>\n",
       "  <tbody>\n",
       "    <tr>\n",
       "      <th>0</th>\n",
       "      <td>-0.415121</td>\n",
       "      <td>-0.301025</td>\n",
       "      <td>-2.526149</td>\n",
       "      <td>0.496135</td>\n",
       "      <td>1.125173</td>\n",
       "      <td>1</td>\n",
       "    </tr>\n",
       "    <tr>\n",
       "      <th>1</th>\n",
       "      <td>0.901472</td>\n",
       "      <td>0.665202</td>\n",
       "      <td>-1.526000</td>\n",
       "      <td>1.590134</td>\n",
       "      <td>0.558125</td>\n",
       "      <td>1</td>\n",
       "    </tr>\n",
       "    <tr>\n",
       "      <th>2</th>\n",
       "      <td>3.876457</td>\n",
       "      <td>-0.526733</td>\n",
       "      <td>-3.656940</td>\n",
       "      <td>-3.191591</td>\n",
       "      <td>1.983556</td>\n",
       "      <td>0</td>\n",
       "    </tr>\n",
       "    <tr>\n",
       "      <th>3</th>\n",
       "      <td>0.269913</td>\n",
       "      <td>0.891636</td>\n",
       "      <td>-1.678975</td>\n",
       "      <td>2.855418</td>\n",
       "      <td>0.072228</td>\n",
       "      <td>1</td>\n",
       "    </tr>\n",
       "    <tr>\n",
       "      <th>4</th>\n",
       "      <td>-0.635312</td>\n",
       "      <td>-0.249893</td>\n",
       "      <td>-2.948049</td>\n",
       "      <td>0.868239</td>\n",
       "      <td>1.478572</td>\n",
       "      <td>1</td>\n",
       "    </tr>\n",
       "  </tbody>\n",
       "</table>\n",
       "</div>"
      ],
      "text/plain": [
       "       col1      col2      col3      col4      col5  target\n",
       "0 -0.415121 -0.301025 -2.526149  0.496135  1.125173       1\n",
       "1  0.901472  0.665202 -1.526000  1.590134  0.558125       1\n",
       "2  3.876457 -0.526733 -3.656940 -3.191591  1.983556       0\n",
       "3  0.269913  0.891636 -1.678975  2.855418  0.072228       1\n",
       "4 -0.635312 -0.249893 -2.948049  0.868239  1.478572       1"
      ]
     },
     "execution_count": 4,
     "metadata": {},
     "output_type": "execute_result"
    }
   ],
   "source": [
    "df = pd.DataFrame(x,columns=['col1','col2','col3','col4','col5'])\n",
    "df['target'] = y\n",
    "print(df.shape)\n",
    "df.head(5)"
   ]
  },
  {
   "cell_type": "code",
   "execution_count": 5,
   "id": "09f65bd9",
   "metadata": {},
   "outputs": [],
   "source": [
    "def sample_rows(df,percent):\n",
    "  return df.sample((int(percent*df.shape[0])),replace=True)\n"
   ]
  },
  {
   "cell_type": "code",
   "execution_count": null,
   "id": "a3e6c68e",
   "metadata": {},
   "outputs": [],
   "source": [
    "def sample_features(df,percent):\n",
    "  cols = random.sample(df.columns.tolist()[:-1],int(percent*(df.shape[1]-1)))\n",
    "  return df[cols]"
   ]
  },
  {
   "cell_type": "code",
   "execution_count": 7,
   "id": "c7c3765f",
   "metadata": {},
   "outputs": [],
   "source": [
    "def combined_sampling(df,row_percent,col_percent):\n",
    "  new_df = sample_rows(df,row_percent)\n",
    "  return sample_features(new_df,col_percent)"
   ]
  },
  {
   "cell_type": "code",
   "execution_count": 8,
   "id": "afaeaaa6",
   "metadata": {},
   "outputs": [
    {
     "data": {
      "text/html": [
       "<div>\n",
       "<style scoped>\n",
       "    .dataframe tbody tr th:only-of-type {\n",
       "        vertical-align: middle;\n",
       "    }\n",
       "\n",
       "    .dataframe tbody tr th {\n",
       "        vertical-align: top;\n",
       "    }\n",
       "\n",
       "    .dataframe thead th {\n",
       "        text-align: right;\n",
       "    }\n",
       "</style>\n",
       "<table border=\"1\" class=\"dataframe\">\n",
       "  <thead>\n",
       "    <tr style=\"text-align: right;\">\n",
       "      <th></th>\n",
       "      <th>col1</th>\n",
       "      <th>col2</th>\n",
       "      <th>col3</th>\n",
       "      <th>col4</th>\n",
       "      <th>col5</th>\n",
       "      <th>target</th>\n",
       "    </tr>\n",
       "  </thead>\n",
       "  <tbody>\n",
       "    <tr>\n",
       "      <th>24</th>\n",
       "      <td>1.602562</td>\n",
       "      <td>0.547357</td>\n",
       "      <td>-1.694134</td>\n",
       "      <td>-1.722333</td>\n",
       "      <td>0.949362</td>\n",
       "      <td>0</td>\n",
       "    </tr>\n",
       "    <tr>\n",
       "      <th>93</th>\n",
       "      <td>1.291672</td>\n",
       "      <td>2.052637</td>\n",
       "      <td>-0.494099</td>\n",
       "      <td>0.898256</td>\n",
       "      <td>1.212044</td>\n",
       "      <td>0</td>\n",
       "    </tr>\n",
       "    <tr>\n",
       "      <th>31</th>\n",
       "      <td>0.611191</td>\n",
       "      <td>1.760319</td>\n",
       "      <td>-0.273528</td>\n",
       "      <td>0.135035</td>\n",
       "      <td>1.806980</td>\n",
       "      <td>0</td>\n",
       "    </tr>\n",
       "    <tr>\n",
       "      <th>32</th>\n",
       "      <td>0.708620</td>\n",
       "      <td>0.503205</td>\n",
       "      <td>-0.666948</td>\n",
       "      <td>-0.034011</td>\n",
       "      <td>1.193300</td>\n",
       "      <td>1</td>\n",
       "    </tr>\n",
       "    <tr>\n",
       "      <th>72</th>\n",
       "      <td>-0.433845</td>\n",
       "      <td>3.682352</td>\n",
       "      <td>-0.249476</td>\n",
       "      <td>0.108734</td>\n",
       "      <td>0.769412</td>\n",
       "      <td>0</td>\n",
       "    </tr>\n",
       "    <tr>\n",
       "      <th>22</th>\n",
       "      <td>1.998607</td>\n",
       "      <td>2.456316</td>\n",
       "      <td>-0.592911</td>\n",
       "      <td>-0.078047</td>\n",
       "      <td>2.680795</td>\n",
       "      <td>1</td>\n",
       "    </tr>\n",
       "    <tr>\n",
       "      <th>95</th>\n",
       "      <td>2.639898</td>\n",
       "      <td>0.609444</td>\n",
       "      <td>-2.932081</td>\n",
       "      <td>-2.519652</td>\n",
       "      <td>2.484739</td>\n",
       "      <td>0</td>\n",
       "    </tr>\n",
       "    <tr>\n",
       "      <th>8</th>\n",
       "      <td>-0.443950</td>\n",
       "      <td>2.465134</td>\n",
       "      <td>0.256693</td>\n",
       "      <td>0.506872</td>\n",
       "      <td>2.565510</td>\n",
       "      <td>0</td>\n",
       "    </tr>\n",
       "    <tr>\n",
       "      <th>10</th>\n",
       "      <td>2.891136</td>\n",
       "      <td>2.839614</td>\n",
       "      <td>1.269112</td>\n",
       "      <td>0.692037</td>\n",
       "      <td>1.638789</td>\n",
       "      <td>0</td>\n",
       "    </tr>\n",
       "    <tr>\n",
       "      <th>81</th>\n",
       "      <td>0.308753</td>\n",
       "      <td>1.757250</td>\n",
       "      <td>-0.721150</td>\n",
       "      <td>-0.792104</td>\n",
       "      <td>1.018104</td>\n",
       "      <td>0</td>\n",
       "    </tr>\n",
       "  </tbody>\n",
       "</table>\n",
       "</div>"
      ],
      "text/plain": [
       "        col1      col2      col3      col4      col5  target\n",
       "24  1.602562  0.547357 -1.694134 -1.722333  0.949362       0\n",
       "93  1.291672  2.052637 -0.494099  0.898256  1.212044       0\n",
       "31  0.611191  1.760319 -0.273528  0.135035  1.806980       0\n",
       "32  0.708620  0.503205 -0.666948 -0.034011  1.193300       1\n",
       "72 -0.433845  3.682352 -0.249476  0.108734  0.769412       0\n",
       "22  1.998607  2.456316 -0.592911 -0.078047  2.680795       1\n",
       "95  2.639898  0.609444 -2.932081 -2.519652  2.484739       0\n",
       "8  -0.443950  2.465134  0.256693  0.506872  2.565510       0\n",
       "10  2.891136  2.839614  1.269112  0.692037  1.638789       0\n",
       "81  0.308753  1.757250 -0.721150 -0.792104  1.018104       0"
      ]
     },
     "execution_count": 8,
     "metadata": {},
     "output_type": "execute_result"
    }
   ],
   "source": [
    "sample_rows(df,0.1)"
   ]
  },
  {
   "cell_type": "code",
   "execution_count": 9,
   "id": "0da9cb43",
   "metadata": {},
   "outputs": [],
   "source": [
    "from sklearn.tree import DecisionTreeClassifier"
   ]
  },
  {
   "cell_type": "markdown",
   "id": "348d69d2",
   "metadata": {},
   "source": [
    "Generating Forest\n"
   ]
  },
  {
   "cell_type": "code",
   "execution_count": 24,
   "id": "33a51fb4",
   "metadata": {},
   "outputs": [],
   "source": [
    "n_trees = 100\n",
    "trees = []\n",
    "\n",
    "for i in range(n_trees):\n",
    "    df_new = sample_rows(df, 0.4)\n",
    "    X_train = df_new.iloc[:, :-1]\n",
    "    y_train = df_new.iloc[:, -1]\n",
    "    \n",
    "    tree = DecisionTreeClassifier()\n",
    "    tree.fit(X_train, y_train)\n",
    "    trees.append(tree) \n",
    "\n"
   ]
  },
  {
   "cell_type": "code",
   "execution_count": 25,
   "id": "bf449259",
   "metadata": {},
   "outputs": [
    {
     "name": "stdout",
     "output_type": "stream",
     "text": [
      "[DecisionTreeClassifier(), DecisionTreeClassifier(), DecisionTreeClassifier(), DecisionTreeClassifier(), DecisionTreeClassifier(), DecisionTreeClassifier(), DecisionTreeClassifier(), DecisionTreeClassifier(), DecisionTreeClassifier(), DecisionTreeClassifier(), DecisionTreeClassifier(), DecisionTreeClassifier(), DecisionTreeClassifier(), DecisionTreeClassifier(), DecisionTreeClassifier(), DecisionTreeClassifier(), DecisionTreeClassifier(), DecisionTreeClassifier(), DecisionTreeClassifier(), DecisionTreeClassifier(), DecisionTreeClassifier(), DecisionTreeClassifier(), DecisionTreeClassifier(), DecisionTreeClassifier(), DecisionTreeClassifier(), DecisionTreeClassifier(), DecisionTreeClassifier(), DecisionTreeClassifier(), DecisionTreeClassifier(), DecisionTreeClassifier(), DecisionTreeClassifier(), DecisionTreeClassifier(), DecisionTreeClassifier(), DecisionTreeClassifier(), DecisionTreeClassifier(), DecisionTreeClassifier(), DecisionTreeClassifier(), DecisionTreeClassifier(), DecisionTreeClassifier(), DecisionTreeClassifier(), DecisionTreeClassifier(), DecisionTreeClassifier(), DecisionTreeClassifier(), DecisionTreeClassifier(), DecisionTreeClassifier(), DecisionTreeClassifier(), DecisionTreeClassifier(), DecisionTreeClassifier(), DecisionTreeClassifier(), DecisionTreeClassifier(), DecisionTreeClassifier(), DecisionTreeClassifier(), DecisionTreeClassifier(), DecisionTreeClassifier(), DecisionTreeClassifier(), DecisionTreeClassifier(), DecisionTreeClassifier(), DecisionTreeClassifier(), DecisionTreeClassifier(), DecisionTreeClassifier(), DecisionTreeClassifier(), DecisionTreeClassifier(), DecisionTreeClassifier(), DecisionTreeClassifier(), DecisionTreeClassifier(), DecisionTreeClassifier(), DecisionTreeClassifier(), DecisionTreeClassifier(), DecisionTreeClassifier(), DecisionTreeClassifier(), DecisionTreeClassifier(), DecisionTreeClassifier(), DecisionTreeClassifier(), DecisionTreeClassifier(), DecisionTreeClassifier(), DecisionTreeClassifier(), DecisionTreeClassifier(), DecisionTreeClassifier(), DecisionTreeClassifier(), DecisionTreeClassifier(), DecisionTreeClassifier(), DecisionTreeClassifier(), DecisionTreeClassifier(), DecisionTreeClassifier(), DecisionTreeClassifier(), DecisionTreeClassifier(), DecisionTreeClassifier(), DecisionTreeClassifier(), DecisionTreeClassifier(), DecisionTreeClassifier(), DecisionTreeClassifier(), DecisionTreeClassifier(), DecisionTreeClassifier(), DecisionTreeClassifier(), DecisionTreeClassifier(), DecisionTreeClassifier(), DecisionTreeClassifier(), DecisionTreeClassifier(), DecisionTreeClassifier(), DecisionTreeClassifier()]\n"
     ]
    }
   ],
   "source": [
    "print(trees)"
   ]
  },
  {
   "cell_type": "code",
   "execution_count": 26,
   "id": "40c7c9c2",
   "metadata": {},
   "outputs": [],
   "source": [
    "from scipy.stats import mode\n"
   ]
  },
  {
   "cell_type": "code",
   "execution_count": 27,
   "id": "63fa4c49",
   "metadata": {},
   "outputs": [],
   "source": [
    "def predict_rf(trees, X):\n",
    "    preds = []\n",
    "\n",
    "    for tree in trees:\n",
    "        pred = tree.predict(X)\n",
    "        preds.append(pred)\n",
    "\n",
    "    preds = np.array(preds)\n",
    "    final_preds = mode(preds, axis=0)[0].flatten()\n",
    "    print(final_preds)\n",
    "    return final_preds\n"
   ]
  },
  {
   "cell_type": "code",
   "execution_count": 33,
   "id": "8f50e242",
   "metadata": {},
   "outputs": [
    {
     "name": "stdout",
     "output_type": "stream",
     "text": [
      "[0 1 0 1 1 0 1 1 0 1 0 1 0 1 0 0 1 1 1 0 1 1 1 0 0 0 0 1 1 1 0 1 1 1 0 1 0\n",
      " 1 0 0 0 1 0 0 0 0 0 0 0 1 0 0 1 1 0 0 0 1 1 0 0 1 1 0 1 0 1 0 1 0 0 0 1 0\n",
      " 1 1 0 1 0 1]\n",
      "r2 score: 0.7994987468671679\n"
     ]
    }
   ],
   "source": [
    "df_test = df.sample(80)\n",
    "X_test = df_test.iloc[:, :-1]\n",
    "y_test = df_test.iloc[:, -1]\n",
    "\n",
    "y_pred = predict_rf(trees, X_test)\n",
    "\n",
    "from sklearn.metrics import r2_score\n",
    "print(\"r2 score:\", r2_score(y_test, y_pred))"
   ]
  },
  {
   "cell_type": "code",
   "execution_count": 34,
   "id": "210061cb",
   "metadata": {},
   "outputs": [],
   "source": [
    "from sklearn.utils import shuffle\n",
    "\n",
    "df_shuffled = shuffle(df, random_state=42)\n",
    "train_size = int(0.8 * len(df_shuffled))\n",
    "\n",
    "x_train = df_shuffled.iloc[:train_size, :-1]\n",
    "y_train = df_shuffled.iloc[:train_size, -1]\n"
   ]
  },
  {
   "cell_type": "code",
   "execution_count": 36,
   "id": "3e79898f",
   "metadata": {},
   "outputs": [
    {
     "name": "stdout",
     "output_type": "stream",
     "text": [
      "Single Decision r2 score: 0.7493734335839599\n"
     ]
    }
   ],
   "source": [
    "single_tree = DecisionTreeClassifier()\n",
    "single_tree.fit(x_train, y_train)\n",
    "y_pred = single_tree.predict(X_test)\n",
    "acc = r2_score(y_test, y_pred)\n",
    "\n",
    "print(\"Single Decision r2 score:\", acc)"
   ]
  }
 ],
 "metadata": {
  "kernelspec": {
   "display_name": "Python 3",
   "language": "python",
   "name": "python3"
  },
  "language_info": {
   "codemirror_mode": {
    "name": "ipython",
    "version": 3
   },
   "file_extension": ".py",
   "mimetype": "text/x-python",
   "name": "python",
   "nbconvert_exporter": "python",
   "pygments_lexer": "ipython3",
   "version": "3.11.9"
  }
 },
 "nbformat": 4,
 "nbformat_minor": 5
}
