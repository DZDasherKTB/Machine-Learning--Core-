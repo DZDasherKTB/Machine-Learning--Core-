{
 "cells": [
  {
   "cell_type": "code",
   "execution_count": 2,
   "id": "1c1aadc3",
   "metadata": {},
   "outputs": [],
   "source": [
    "import numpy as np\n",
    "import pandas as pd\n",
    "from sklearn.tree import DecisionTreeClassifier\n",
    "import random\n"
   ]
  },
  {
   "cell_type": "code",
   "execution_count": null,
   "id": "200d8876",
   "metadata": {},
   "outputs": [],
   "source": [
    "class AdaBoostScratch:\n",
    "  def __init__(self, n_estimators=50):\n",
    "    self.n_estimators = n_estimators\n",
    "    self.models = []\n",
    "    self.alphas = []\n",
    "\n",
    "  def fit(self, df):\n",
    "    n = df.shape[0]\n",
    "    df = df.copy()\n",
    "    df['weights'] = 1 / n\n",
    "\n",
    "    for i in range(self.n_estimators):\n",
    "        df_sampled = df.sample(n=n, replace=True, weights='weights', random_state=i).reset_index(drop=True)\n",
    "\n",
    "        drop_cols = [col for col in ['target', 'weights', 'y_pred'] if col in df_sampled.columns]\n",
    "        X = df_sampled.drop(columns=drop_cols)\n",
    "        y = df_sampled['target']\n",
    "\n",
    "        clf = DecisionTreeClassifier(max_depth=1)\n",
    "        clf.fit(X, y)\n",
    "\n",
    "        X_full = df.drop(columns=[col for col in ['target', 'weights', 'y_pred'] if col in df.columns])\n",
    "        y_true = df['target']\n",
    "        y_pred = clf.predict(X_full)\n",
    "\n",
    "        err = np.sum(df['weights'] * (y_true != y_pred)) / np.sum(df['weights'])\n",
    "\n",
    "        if err > 0.5 or err == 0:\n",
    "            continue\n",
    "\n",
    "        alpha = 0.5 * np.log((1 - err) / err)\n",
    "\n",
    "        self.models.append((clf, alpha))\n",
    "\n",
    "        df['y_pred'] = y_pred\n",
    "        df['weights'] = df.apply(\n",
    "            lambda row: row['weights'] * np.exp(-alpha) if row['target'] == row['y_pred']\n",
    "            else row['weights'] * np.exp(alpha),\n",
    "            axis=1\n",
    "        )\n",
    "        df['weights'] /= df['weights'].sum()\n",
    "\n",
    "\n",
    "  def predict(self, X):\n",
    "      final = np.zeros(X.shape[0])\n",
    "      for model, alpha in self.models:\n",
    "          pred = model.predict(X)\n",
    "          final += alpha * pred\n",
    "      return np.sign(final)\n"
   ]
  },
  {
   "cell_type": "code",
   "execution_count": 7,
   "id": "aa9cd552",
   "metadata": {},
   "outputs": [
    {
     "name": "stdout",
     "output_type": "stream",
     "text": [
      "Accuracy: 0.9\n"
     ]
    }
   ],
   "source": [
    "from sklearn.datasets import make_classification\n",
    "from sklearn.model_selection import train_test_split\n",
    "from sklearn.metrics import accuracy_score\n",
    "\n",
    "X, y = make_classification(n_samples=300, n_features=5, n_informative=3)\n",
    "y = np.where(y == 0, -1, 1)\n",
    "\n",
    "df = pd.DataFrame(X, columns=[f\"f{i}\" for i in range(X.shape[1])])\n",
    "df['target'] = y\n",
    "\n",
    "train_df, test_df = train_test_split(df, test_size=0.2)\n",
    "\n",
    "# Train\n",
    "model = AdaBoostScratch(n_estimators=20)\n",
    "model.fit(train_df)\n",
    "\n",
    "# Predict\n",
    "X_test = test_df.drop(columns='target')\n",
    "y_test = test_df['target']\n",
    "y_pred = model.predict(X_test)\n",
    "\n",
    "print(\"Accuracy:\", accuracy_score(y_test, y_pred))\n"
   ]
  },
  {
   "cell_type": "code",
   "execution_count": null,
   "id": "4977190d",
   "metadata": {},
   "outputs": [],
   "source": []
  }
 ],
 "metadata": {
  "kernelspec": {
   "display_name": "Python 3",
   "language": "python",
   "name": "python3"
  },
  "language_info": {
   "codemirror_mode": {
    "name": "ipython",
    "version": 3
   },
   "file_extension": ".py",
   "mimetype": "text/x-python",
   "name": "python",
   "nbconvert_exporter": "python",
   "pygments_lexer": "ipython3",
   "version": "3.11.9"
  }
 },
 "nbformat": 4,
 "nbformat_minor": 5
}
