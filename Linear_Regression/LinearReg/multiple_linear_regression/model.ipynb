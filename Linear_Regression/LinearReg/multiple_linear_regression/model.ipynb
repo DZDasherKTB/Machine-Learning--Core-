{
 "cells": [
  {
   "cell_type": "code",
   "execution_count": 77,
   "id": "329371e3",
   "metadata": {},
   "outputs": [],
   "source": [
    "from sklearn.datasets import make_regression\n",
    "import pandas as pd\n",
    "import numpy as np\n",
    "import plotly.express as px\n",
    "import plotly.graph_objects as go\n",
    "from sklearn.metrics import mean_absolute_error,mean_squared_error,r2_score"
   ]
  },
  {
   "cell_type": "code",
   "execution_count": 78,
   "id": "0aa47548",
   "metadata": {},
   "outputs": [],
   "source": [
    "x,y = make_regression(n_samples=100,n_features=2,n_informative=2,n_targets=1,noise=50)"
   ]
  },
  {
   "cell_type": "code",
   "execution_count": 79,
   "id": "3308a1d9",
   "metadata": {},
   "outputs": [],
   "source": [
    "df = pd.DataFrame({'feature1':x[:,0],'feature2':x[:,1],'target':y})"
   ]
  },
  {
   "cell_type": "code",
   "execution_count": 80,
   "id": "c15f3efb",
   "metadata": {},
   "outputs": [
    {
     "data": {
      "text/html": [
       "<div>\n",
       "<style scoped>\n",
       "    .dataframe tbody tr th:only-of-type {\n",
       "        vertical-align: middle;\n",
       "    }\n",
       "\n",
       "    .dataframe tbody tr th {\n",
       "        vertical-align: top;\n",
       "    }\n",
       "\n",
       "    .dataframe thead th {\n",
       "        text-align: right;\n",
       "    }\n",
       "</style>\n",
       "<table border=\"1\" class=\"dataframe\">\n",
       "  <thead>\n",
       "    <tr style=\"text-align: right;\">\n",
       "      <th></th>\n",
       "      <th>feature1</th>\n",
       "      <th>feature2</th>\n",
       "      <th>target</th>\n",
       "    </tr>\n",
       "  </thead>\n",
       "  <tbody>\n",
       "    <tr>\n",
       "      <th>0</th>\n",
       "      <td>-0.455223</td>\n",
       "      <td>1.329389</td>\n",
       "      <td>74.325848</td>\n",
       "    </tr>\n",
       "    <tr>\n",
       "      <th>1</th>\n",
       "      <td>-0.712866</td>\n",
       "      <td>0.500531</td>\n",
       "      <td>-51.139693</td>\n",
       "    </tr>\n",
       "    <tr>\n",
       "      <th>2</th>\n",
       "      <td>-0.230797</td>\n",
       "      <td>-0.020008</td>\n",
       "      <td>-14.811781</td>\n",
       "    </tr>\n",
       "    <tr>\n",
       "      <th>3</th>\n",
       "      <td>-0.124098</td>\n",
       "      <td>0.663544</td>\n",
       "      <td>23.687620</td>\n",
       "    </tr>\n",
       "    <tr>\n",
       "      <th>4</th>\n",
       "      <td>-0.318601</td>\n",
       "      <td>0.263886</td>\n",
       "      <td>-2.579845</td>\n",
       "    </tr>\n",
       "  </tbody>\n",
       "</table>\n",
       "</div>"
      ],
      "text/plain": [
       "   feature1  feature2     target\n",
       "0 -0.455223  1.329389  74.325848\n",
       "1 -0.712866  0.500531 -51.139693\n",
       "2 -0.230797 -0.020008 -14.811781\n",
       "3 -0.124098  0.663544  23.687620\n",
       "4 -0.318601  0.263886  -2.579845"
      ]
     },
     "execution_count": 80,
     "metadata": {},
     "output_type": "execute_result"
    }
   ],
   "source": [
    "df.head()"
   ]
  },
  {
   "cell_type": "code",
   "execution_count": 81,
   "id": "ef58fb20",
   "metadata": {},
   "outputs": [
    {
     "data": {
      "application/vnd.plotly.v1+json": {
       "config": {
        "plotlyServerURL": "https://plot.ly"
       },
       "data": [
        {
         "hovertemplate": "feature1=%{x}<br>feature2=%{y}<br>target=%{z}<extra></extra>",
         "legendgroup": "",
         "marker": {
          "color": "#636efa",
          "symbol": "circle"
         },
         "mode": "markers",
         "name": "",
         "scene": "scene",
         "showlegend": false,
         "type": "scatter3d",
         "x": {
          "bdata": "jc+taWEi3b9wtNA9zc/mv1YJv0HCis2/js1PbOHEv7+3+N3N9GPUv2tpUZn85Ne/wBSRQ+7H7b/EqjyejuLWP5nBIcr1P9q/87nf1mKP7z9Vh144cRPoP1dlE40kZgDANQC8NdRK+7/RCGK55U6xv+ElmoxliuO/bgS1rGWT+z+CMnlMhmfKv/h3GC96q+y/v1zmrTD97D+rQB9esbCyP/lgaj5yOfG/bZLFr4kQ6z93xMos0D/qP/uQnkOhvsk/9kuPKJJM0r92hpfbKmDRv011GVUn2vA/e4m/gaGfmD+cAzaInAHeP3xR6he/3ZU/CbJNTPN84z96/OqNcdblv/JChdsMHO+/sz9c2Ztc5b+JoGBqnarLP3Df/W5p0vM/xciJn9Lezr8q4SvMQMTQvyhOuDoQmOS/07GMRjY38j9BeAjQvIPqP6Y1RZs/pNk//E+wPmBu/T89hekcSOzcP0+MWJrWruE/lF7hb+7s5b8MK1axlfzjPyOnNx+GCfe/CFEvvZwX5D8y/o+26yEDwJwKpG71ouc/PxjxcFuJ9z/IhxcK6YTsvyQkbmjKPLg//dEzTtou+z9pmthIr0zKv5LJ2hs1beA//MYfRJaV4b+1bD1fu7XpPyQGro6e1OQ/n6tWDU8Uur8AZAJrxBzjP7ISGRLS3vM/dA9c2Pbj/D/oK2vo3tftv1FWLhH92NE/7HngPT4Jlj82J6gaJR/JPz7W7xMVEuE/fUe+do6Qzj++H7bTfSLzP0j0MMXskfS/fklumnMP4r8TEfqSSYjjvyaBTan3Ufe/KUcbYS6zvD/QfaCUo5rdv/Uc0zPMBu4/y/K4KoSX4T8hCehdatLtP1j50tMkjv0/BoLGJgME6j+C7sG6Iq3OvwWIildNo/S/y3AVMRLt8b+BEC3AJSLov21JDp95wKA/7sKwlegD3b9O3cji357yP0PdblaFxO8/AbM/MHd+4L84NMvMl2y7vzIwG09c2us/1hWyCOe86D90Jq20i0TtP+RPaMcWwfg/pZYQ29q5xb/7tH29Q/X4vywc9XVl3eq/JuT5bGYx3T8=",
          "dtype": "f8"
         },
         "y": {
          "bdata": "QXyoJC1F9T/2jb6vWQTgP5mY34oFfZS/Dfwrzr875T/MJhJOg+PQP0xAZyyqNci/9Olm/IUT6D8A2JFPlSnQP8BvN2ah9uM/5Gc7sRjLzT8Pa88QDNPrP41FCZyRPuY/5MuCG04m3L8Fu0kX1qL2v6DHsN6NCsu/MbCOErNk9D8z4RqlFXmJP4JkwXTiYs+/88RRgcXv5r/QeG6uagDov576DK/fQPc//EV/DYDY+b8QF/r1BD7ov28IFBuRhANAlounVkXD4T9f/ATg01fav9XUrLLZDvy/4fqldAgN7r8r146G8JH2P4PdtXsRl+0/zGv8itVz1D+0i4BKlifhv2sPZLXeJAZAMZ7qA/uJ9z++ax/TjSfjP/m6m8PFN/i/7yathRx27T8TNXC95oDmvxdkbpOOKfO/g3i+el7Y2T8Skb3zS0fbv5lz0a1Nw+c/Q5SsX5M78j+EOO/2x17fPx6Qxai1gOM/3cDM3qz71j8pMsks/THjP3huULHeL/i/gBGIGG6a6L8A2zKJPXXkv5nnXEK1GNS/rv1+PXfI4z+xSkYM1qG7P1rUa4M6jaY/c+nogBbcpr9DUde/Mef1PzzszLHVNOI/nR4gnE7P6T/qXx6vj1juP0DyJxj6gdC/QbFMsGcl5z94uHQ/59/bP79Sk64ti+C/CI1x7xs09b+DRq2Q1Tv3v36i2lPN6J4/1ieCt/Y96r+jrOE5gl7qv9AduFP8JOW/JyVRJfYHA8CRdZvd536av5BOlpTGdNy//R9xHfi65D+pngW0Z0jRv62RGu4Q18g/aqrcsQNd+T/XfWt6pRjqP4uTFFjqDuA/76gNGGad779Jggt5LxTXv1LW+zRyNsa/pstfa1xK/z/KwgUZ1mz0P3CH1Mk09fG/TrfaW2ZFAkB+T+ctFOCgP545rxBr8N2/aOS2fsamqb/x45mnxEvTv9ypmT7sWPO/rde30mrhl7/4I2unRu/Rv/1FcmriYeg/aXCkqwAz6r8/Wpb4Gtfhv6jSGFlfM8S/EtML110npT9EKMI5W6D2P3B227aqdrO/pnLemYhS4z8=",
          "dtype": "f8"
         },
         "z": {
          "bdata": "2ZyEsdqUUkC8KOZ14ZFJwAkL4bOhny3AOzQd3AewN0BtkZuHhaMEwBCa3u8a0xFAOtvjJ4rZSkD6fihLgT5TQP5D0XMYGD/A7PP2/R9/UEAlvXUBc+hbQLj4y159mVTASoqLAGkpbcCG/AQJ41RlwJQmKskzsVDAJ9iNIBwickBWasnjoqZXwL7sTpLxi2DA3eG0+UtWWkCY14oFlRVZwIaF/uHvhlRAZqLBaS5ZU8CHYHv3XGIwwAPa5rMqznBA4YkYjmlQOEANLRa4ScVWwLz/gKe+pU3AQOit1tuTLsDfdxNnkzBUQND+sANC6UVAzmoy4j/xUEDMSBRLyedkwK5k4vtKLGJADAWquNCsYEAURwgrQ71aQD1fMHRMhVdAZbn4l5+bW0ComEZhjcpiwOO5bKVvLGDAQYpR+sCaakBITdwMpftFQDSKimI2VENAGc3T82kmdUDdbb1pp29VQEBdl+nJ8Pk/SgSkq7PUK0BurkNe3vxeQKeKnMg2km/AeNKvjn5fPMCkHC5Wh01nwEqdr9a8rWVAen/sYYFIaUACE9CEqPRNwNx8o1++j1HA5w3YBm6+X0ABwF3KBURYQGBrROhLs15AkECGtY8Q9b8J7qO3Vl5mQKRecAJFlxFANBu8BeZ0OUDablgEt69VQMLMvwCv8kZAGSNPHsXZN0AHg1sQjldWwHjAYomwXgnAfnnWmr9sNMBQqlfAQNtTwHBkPUJjiwnAIs2SO7WUacA7wxsiWJxjQAFKRNEo7mDAAcvLgG0pUcCu7xOMjGtZwAqAhFs0+lvADPkkmt2/XEBXkSFE5W5IwBD3aXYj3WVA8CWX9pLZDUDEfX/zeH9hQBIMu7F5fFVAmKlcaE1QckDgz8jnwGBbQHZG0kwdMmnAADhBLtKR67+GV38xjKJlwLia4fRvclHAmommFrE/RMAZ0T1UN0pXQOjTqYqhTTXANlaWCiXxPkCsZhGIAuJUwGsoUCyKyF5AMM7wmQNDNcDaMwIoh2RKwKafl8wMymFAjO0Tm62sPUDgOGkbAZZHwAA9SKyfjwjAImkoQw0sWUA=",
          "dtype": "f8"
         }
        }
       ],
       "layout": {
        "legend": {
         "tracegroupgap": 0
        },
        "margin": {
         "t": 60
        },
        "scene": {
         "domain": {
          "x": [
           0,
           1
          ],
          "y": [
           0,
           1
          ]
         },
         "xaxis": {
          "title": {
           "text": "feature1"
          }
         },
         "yaxis": {
          "title": {
           "text": "feature2"
          }
         },
         "zaxis": {
          "title": {
           "text": "target"
          }
         }
        },
        "template": {
         "data": {
          "bar": [
           {
            "error_x": {
             "color": "#2a3f5f"
            },
            "error_y": {
             "color": "#2a3f5f"
            },
            "marker": {
             "line": {
              "color": "#E5ECF6",
              "width": 0.5
             },
             "pattern": {
              "fillmode": "overlay",
              "size": 10,
              "solidity": 0.2
             }
            },
            "type": "bar"
           }
          ],
          "barpolar": [
           {
            "marker": {
             "line": {
              "color": "#E5ECF6",
              "width": 0.5
             },
             "pattern": {
              "fillmode": "overlay",
              "size": 10,
              "solidity": 0.2
             }
            },
            "type": "barpolar"
           }
          ],
          "carpet": [
           {
            "aaxis": {
             "endlinecolor": "#2a3f5f",
             "gridcolor": "white",
             "linecolor": "white",
             "minorgridcolor": "white",
             "startlinecolor": "#2a3f5f"
            },
            "baxis": {
             "endlinecolor": "#2a3f5f",
             "gridcolor": "white",
             "linecolor": "white",
             "minorgridcolor": "white",
             "startlinecolor": "#2a3f5f"
            },
            "type": "carpet"
           }
          ],
          "choropleth": [
           {
            "colorbar": {
             "outlinewidth": 0,
             "ticks": ""
            },
            "type": "choropleth"
           }
          ],
          "contour": [
           {
            "colorbar": {
             "outlinewidth": 0,
             "ticks": ""
            },
            "colorscale": [
             [
              0,
              "#0d0887"
             ],
             [
              0.1111111111111111,
              "#46039f"
             ],
             [
              0.2222222222222222,
              "#7201a8"
             ],
             [
              0.3333333333333333,
              "#9c179e"
             ],
             [
              0.4444444444444444,
              "#bd3786"
             ],
             [
              0.5555555555555556,
              "#d8576b"
             ],
             [
              0.6666666666666666,
              "#ed7953"
             ],
             [
              0.7777777777777778,
              "#fb9f3a"
             ],
             [
              0.8888888888888888,
              "#fdca26"
             ],
             [
              1,
              "#f0f921"
             ]
            ],
            "type": "contour"
           }
          ],
          "contourcarpet": [
           {
            "colorbar": {
             "outlinewidth": 0,
             "ticks": ""
            },
            "type": "contourcarpet"
           }
          ],
          "heatmap": [
           {
            "colorbar": {
             "outlinewidth": 0,
             "ticks": ""
            },
            "colorscale": [
             [
              0,
              "#0d0887"
             ],
             [
              0.1111111111111111,
              "#46039f"
             ],
             [
              0.2222222222222222,
              "#7201a8"
             ],
             [
              0.3333333333333333,
              "#9c179e"
             ],
             [
              0.4444444444444444,
              "#bd3786"
             ],
             [
              0.5555555555555556,
              "#d8576b"
             ],
             [
              0.6666666666666666,
              "#ed7953"
             ],
             [
              0.7777777777777778,
              "#fb9f3a"
             ],
             [
              0.8888888888888888,
              "#fdca26"
             ],
             [
              1,
              "#f0f921"
             ]
            ],
            "type": "heatmap"
           }
          ],
          "histogram": [
           {
            "marker": {
             "pattern": {
              "fillmode": "overlay",
              "size": 10,
              "solidity": 0.2
             }
            },
            "type": "histogram"
           }
          ],
          "histogram2d": [
           {
            "colorbar": {
             "outlinewidth": 0,
             "ticks": ""
            },
            "colorscale": [
             [
              0,
              "#0d0887"
             ],
             [
              0.1111111111111111,
              "#46039f"
             ],
             [
              0.2222222222222222,
              "#7201a8"
             ],
             [
              0.3333333333333333,
              "#9c179e"
             ],
             [
              0.4444444444444444,
              "#bd3786"
             ],
             [
              0.5555555555555556,
              "#d8576b"
             ],
             [
              0.6666666666666666,
              "#ed7953"
             ],
             [
              0.7777777777777778,
              "#fb9f3a"
             ],
             [
              0.8888888888888888,
              "#fdca26"
             ],
             [
              1,
              "#f0f921"
             ]
            ],
            "type": "histogram2d"
           }
          ],
          "histogram2dcontour": [
           {
            "colorbar": {
             "outlinewidth": 0,
             "ticks": ""
            },
            "colorscale": [
             [
              0,
              "#0d0887"
             ],
             [
              0.1111111111111111,
              "#46039f"
             ],
             [
              0.2222222222222222,
              "#7201a8"
             ],
             [
              0.3333333333333333,
              "#9c179e"
             ],
             [
              0.4444444444444444,
              "#bd3786"
             ],
             [
              0.5555555555555556,
              "#d8576b"
             ],
             [
              0.6666666666666666,
              "#ed7953"
             ],
             [
              0.7777777777777778,
              "#fb9f3a"
             ],
             [
              0.8888888888888888,
              "#fdca26"
             ],
             [
              1,
              "#f0f921"
             ]
            ],
            "type": "histogram2dcontour"
           }
          ],
          "mesh3d": [
           {
            "colorbar": {
             "outlinewidth": 0,
             "ticks": ""
            },
            "type": "mesh3d"
           }
          ],
          "parcoords": [
           {
            "line": {
             "colorbar": {
              "outlinewidth": 0,
              "ticks": ""
             }
            },
            "type": "parcoords"
           }
          ],
          "pie": [
           {
            "automargin": true,
            "type": "pie"
           }
          ],
          "scatter": [
           {
            "fillpattern": {
             "fillmode": "overlay",
             "size": 10,
             "solidity": 0.2
            },
            "type": "scatter"
           }
          ],
          "scatter3d": [
           {
            "line": {
             "colorbar": {
              "outlinewidth": 0,
              "ticks": ""
             }
            },
            "marker": {
             "colorbar": {
              "outlinewidth": 0,
              "ticks": ""
             }
            },
            "type": "scatter3d"
           }
          ],
          "scattercarpet": [
           {
            "marker": {
             "colorbar": {
              "outlinewidth": 0,
              "ticks": ""
             }
            },
            "type": "scattercarpet"
           }
          ],
          "scattergeo": [
           {
            "marker": {
             "colorbar": {
              "outlinewidth": 0,
              "ticks": ""
             }
            },
            "type": "scattergeo"
           }
          ],
          "scattergl": [
           {
            "marker": {
             "colorbar": {
              "outlinewidth": 0,
              "ticks": ""
             }
            },
            "type": "scattergl"
           }
          ],
          "scattermap": [
           {
            "marker": {
             "colorbar": {
              "outlinewidth": 0,
              "ticks": ""
             }
            },
            "type": "scattermap"
           }
          ],
          "scattermapbox": [
           {
            "marker": {
             "colorbar": {
              "outlinewidth": 0,
              "ticks": ""
             }
            },
            "type": "scattermapbox"
           }
          ],
          "scatterpolar": [
           {
            "marker": {
             "colorbar": {
              "outlinewidth": 0,
              "ticks": ""
             }
            },
            "type": "scatterpolar"
           }
          ],
          "scatterpolargl": [
           {
            "marker": {
             "colorbar": {
              "outlinewidth": 0,
              "ticks": ""
             }
            },
            "type": "scatterpolargl"
           }
          ],
          "scatterternary": [
           {
            "marker": {
             "colorbar": {
              "outlinewidth": 0,
              "ticks": ""
             }
            },
            "type": "scatterternary"
           }
          ],
          "surface": [
           {
            "colorbar": {
             "outlinewidth": 0,
             "ticks": ""
            },
            "colorscale": [
             [
              0,
              "#0d0887"
             ],
             [
              0.1111111111111111,
              "#46039f"
             ],
             [
              0.2222222222222222,
              "#7201a8"
             ],
             [
              0.3333333333333333,
              "#9c179e"
             ],
             [
              0.4444444444444444,
              "#bd3786"
             ],
             [
              0.5555555555555556,
              "#d8576b"
             ],
             [
              0.6666666666666666,
              "#ed7953"
             ],
             [
              0.7777777777777778,
              "#fb9f3a"
             ],
             [
              0.8888888888888888,
              "#fdca26"
             ],
             [
              1,
              "#f0f921"
             ]
            ],
            "type": "surface"
           }
          ],
          "table": [
           {
            "cells": {
             "fill": {
              "color": "#EBF0F8"
             },
             "line": {
              "color": "white"
             }
            },
            "header": {
             "fill": {
              "color": "#C8D4E3"
             },
             "line": {
              "color": "white"
             }
            },
            "type": "table"
           }
          ]
         },
         "layout": {
          "annotationdefaults": {
           "arrowcolor": "#2a3f5f",
           "arrowhead": 0,
           "arrowwidth": 1
          },
          "autotypenumbers": "strict",
          "coloraxis": {
           "colorbar": {
            "outlinewidth": 0,
            "ticks": ""
           }
          },
          "colorscale": {
           "diverging": [
            [
             0,
             "#8e0152"
            ],
            [
             0.1,
             "#c51b7d"
            ],
            [
             0.2,
             "#de77ae"
            ],
            [
             0.3,
             "#f1b6da"
            ],
            [
             0.4,
             "#fde0ef"
            ],
            [
             0.5,
             "#f7f7f7"
            ],
            [
             0.6,
             "#e6f5d0"
            ],
            [
             0.7,
             "#b8e186"
            ],
            [
             0.8,
             "#7fbc41"
            ],
            [
             0.9,
             "#4d9221"
            ],
            [
             1,
             "#276419"
            ]
           ],
           "sequential": [
            [
             0,
             "#0d0887"
            ],
            [
             0.1111111111111111,
             "#46039f"
            ],
            [
             0.2222222222222222,
             "#7201a8"
            ],
            [
             0.3333333333333333,
             "#9c179e"
            ],
            [
             0.4444444444444444,
             "#bd3786"
            ],
            [
             0.5555555555555556,
             "#d8576b"
            ],
            [
             0.6666666666666666,
             "#ed7953"
            ],
            [
             0.7777777777777778,
             "#fb9f3a"
            ],
            [
             0.8888888888888888,
             "#fdca26"
            ],
            [
             1,
             "#f0f921"
            ]
           ],
           "sequentialminus": [
            [
             0,
             "#0d0887"
            ],
            [
             0.1111111111111111,
             "#46039f"
            ],
            [
             0.2222222222222222,
             "#7201a8"
            ],
            [
             0.3333333333333333,
             "#9c179e"
            ],
            [
             0.4444444444444444,
             "#bd3786"
            ],
            [
             0.5555555555555556,
             "#d8576b"
            ],
            [
             0.6666666666666666,
             "#ed7953"
            ],
            [
             0.7777777777777778,
             "#fb9f3a"
            ],
            [
             0.8888888888888888,
             "#fdca26"
            ],
            [
             1,
             "#f0f921"
            ]
           ]
          },
          "colorway": [
           "#636efa",
           "#EF553B",
           "#00cc96",
           "#ab63fa",
           "#FFA15A",
           "#19d3f3",
           "#FF6692",
           "#B6E880",
           "#FF97FF",
           "#FECB52"
          ],
          "font": {
           "color": "#2a3f5f"
          },
          "geo": {
           "bgcolor": "white",
           "lakecolor": "white",
           "landcolor": "#E5ECF6",
           "showlakes": true,
           "showland": true,
           "subunitcolor": "white"
          },
          "hoverlabel": {
           "align": "left"
          },
          "hovermode": "closest",
          "mapbox": {
           "style": "light"
          },
          "paper_bgcolor": "white",
          "plot_bgcolor": "#E5ECF6",
          "polar": {
           "angularaxis": {
            "gridcolor": "white",
            "linecolor": "white",
            "ticks": ""
           },
           "bgcolor": "#E5ECF6",
           "radialaxis": {
            "gridcolor": "white",
            "linecolor": "white",
            "ticks": ""
           }
          },
          "scene": {
           "xaxis": {
            "backgroundcolor": "#E5ECF6",
            "gridcolor": "white",
            "gridwidth": 2,
            "linecolor": "white",
            "showbackground": true,
            "ticks": "",
            "zerolinecolor": "white"
           },
           "yaxis": {
            "backgroundcolor": "#E5ECF6",
            "gridcolor": "white",
            "gridwidth": 2,
            "linecolor": "white",
            "showbackground": true,
            "ticks": "",
            "zerolinecolor": "white"
           },
           "zaxis": {
            "backgroundcolor": "#E5ECF6",
            "gridcolor": "white",
            "gridwidth": 2,
            "linecolor": "white",
            "showbackground": true,
            "ticks": "",
            "zerolinecolor": "white"
           }
          },
          "shapedefaults": {
           "line": {
            "color": "#2a3f5f"
           }
          },
          "ternary": {
           "aaxis": {
            "gridcolor": "white",
            "linecolor": "white",
            "ticks": ""
           },
           "baxis": {
            "gridcolor": "white",
            "linecolor": "white",
            "ticks": ""
           },
           "bgcolor": "#E5ECF6",
           "caxis": {
            "gridcolor": "white",
            "linecolor": "white",
            "ticks": ""
           }
          },
          "title": {
           "x": 0.05
          },
          "xaxis": {
           "automargin": true,
           "gridcolor": "white",
           "linecolor": "white",
           "ticks": "",
           "title": {
            "standoff": 15
           },
           "zerolinecolor": "white",
           "zerolinewidth": 2
          },
          "yaxis": {
           "automargin": true,
           "gridcolor": "white",
           "linecolor": "white",
           "ticks": "",
           "title": {
            "standoff": 15
           },
           "zerolinecolor": "white",
           "zerolinewidth": 2
          }
         }
        }
       }
      }
     },
     "metadata": {},
     "output_type": "display_data"
    }
   ],
   "source": [
    "fig = px.scatter_3d(df,x='feature1',y = 'feature2',z = 'target')\n",
    "fig.show()"
   ]
  },
  {
   "cell_type": "code",
   "execution_count": 82,
   "id": "84b5a15d",
   "metadata": {},
   "outputs": [],
   "source": [
    "from sklearn.model_selection import train_test_split\n",
    "x_train,x_test,y_train,y_test = train_test_split(x,y,test_size=0.2,random_state=3)"
   ]
  },
  {
   "cell_type": "code",
   "execution_count": 83,
   "id": "419ec05d",
   "metadata": {},
   "outputs": [],
   "source": [
    "from sklearn.linear_model import LinearRegression\n",
    "lr = LinearRegression()"
   ]
  },
  {
   "cell_type": "code",
   "execution_count": 84,
   "id": "ddbdb947",
   "metadata": {},
   "outputs": [],
   "source": [
    "lr.fit(x_train,y_train)\n",
    "y_pred = lr.predict(x_test)"
   ]
  },
  {
   "cell_type": "code",
   "execution_count": 85,
   "id": "f904b84b",
   "metadata": {},
   "outputs": [
    {
     "name": "stdout",
     "output_type": "stream",
     "text": [
      "MAE 44.96768599443055\n",
      "MSE 2763.201824789781\n",
      "R2 Score 0.8583144150903013\n"
     ]
    }
   ],
   "source": [
    "print(\"MAE\",mean_absolute_error(y_test,y_pred))\n",
    "print(\"MSE\",mean_squared_error(y_test,y_pred))\n",
    "print(\"R2 Score\", r2_score(y_test,y_pred))"
   ]
  },
  {
   "cell_type": "code",
   "execution_count": 89,
   "id": "a577b8b5",
   "metadata": {},
   "outputs": [
    {
     "data": {
      "application/vnd.plotly.v1+json": {
       "config": {
        "plotlyServerURL": "https://plot.ly"
       },
       "data": [
        {
         "hovertemplate": "feature1=%{x}<br>feature2=%{y}<br>target=%{z}<extra></extra>",
         "legendgroup": "",
         "marker": {
          "color": "#636efa",
          "symbol": "circle"
         },
         "mode": "markers",
         "name": "",
         "scene": "scene",
         "showlegend": false,
         "type": "scatter3d",
         "x": {
          "bdata": "jc+taWEi3b9wtNA9zc/mv1YJv0HCis2/js1PbOHEv7+3+N3N9GPUv2tpUZn85Ne/wBSRQ+7H7b/EqjyejuLWP5nBIcr1P9q/87nf1mKP7z9Vh144cRPoP1dlE40kZgDANQC8NdRK+7/RCGK55U6xv+ElmoxliuO/bgS1rGWT+z+CMnlMhmfKv/h3GC96q+y/v1zmrTD97D+rQB9esbCyP/lgaj5yOfG/bZLFr4kQ6z93xMos0D/qP/uQnkOhvsk/9kuPKJJM0r92hpfbKmDRv011GVUn2vA/e4m/gaGfmD+cAzaInAHeP3xR6he/3ZU/CbJNTPN84z96/OqNcdblv/JChdsMHO+/sz9c2Ztc5b+JoGBqnarLP3Df/W5p0vM/xciJn9Lezr8q4SvMQMTQvyhOuDoQmOS/07GMRjY38j9BeAjQvIPqP6Y1RZs/pNk//E+wPmBu/T89hekcSOzcP0+MWJrWruE/lF7hb+7s5b8MK1axlfzjPyOnNx+GCfe/CFEvvZwX5D8y/o+26yEDwJwKpG71ouc/PxjxcFuJ9z/IhxcK6YTsvyQkbmjKPLg//dEzTtou+z9pmthIr0zKv5LJ2hs1beA//MYfRJaV4b+1bD1fu7XpPyQGro6e1OQ/n6tWDU8Uur8AZAJrxBzjP7ISGRLS3vM/dA9c2Pbj/D/oK2vo3tftv1FWLhH92NE/7HngPT4Jlj82J6gaJR/JPz7W7xMVEuE/fUe+do6Qzj++H7bTfSLzP0j0MMXskfS/fklumnMP4r8TEfqSSYjjvyaBTan3Ufe/KUcbYS6zvD/QfaCUo5rdv/Uc0zPMBu4/y/K4KoSX4T8hCehdatLtP1j50tMkjv0/BoLGJgME6j+C7sG6Iq3OvwWIildNo/S/y3AVMRLt8b+BEC3AJSLov21JDp95wKA/7sKwlegD3b9O3cji357yP0PdblaFxO8/AbM/MHd+4L84NMvMl2y7vzIwG09c2us/1hWyCOe86D90Jq20i0TtP+RPaMcWwfg/pZYQ29q5xb/7tH29Q/X4vywc9XVl3eq/JuT5bGYx3T8=",
          "dtype": "f8"
         },
         "y": {
          "bdata": "QXyoJC1F9T/2jb6vWQTgP5mY34oFfZS/Dfwrzr875T/MJhJOg+PQP0xAZyyqNci/9Olm/IUT6D8A2JFPlSnQP8BvN2ah9uM/5Gc7sRjLzT8Pa88QDNPrP41FCZyRPuY/5MuCG04m3L8Fu0kX1qL2v6DHsN6NCsu/MbCOErNk9D8z4RqlFXmJP4JkwXTiYs+/88RRgcXv5r/QeG6uagDov576DK/fQPc//EV/DYDY+b8QF/r1BD7ov28IFBuRhANAlounVkXD4T9f/ATg01fav9XUrLLZDvy/4fqldAgN7r8r146G8JH2P4PdtXsRl+0/zGv8itVz1D+0i4BKlifhv2sPZLXeJAZAMZ7qA/uJ9z++ax/TjSfjP/m6m8PFN/i/7yathRx27T8TNXC95oDmvxdkbpOOKfO/g3i+el7Y2T8Skb3zS0fbv5lz0a1Nw+c/Q5SsX5M78j+EOO/2x17fPx6Qxai1gOM/3cDM3qz71j8pMsks/THjP3huULHeL/i/gBGIGG6a6L8A2zKJPXXkv5nnXEK1GNS/rv1+PXfI4z+xSkYM1qG7P1rUa4M6jaY/c+nogBbcpr9DUde/Mef1PzzszLHVNOI/nR4gnE7P6T/qXx6vj1juP0DyJxj6gdC/QbFMsGcl5z94uHQ/59/bP79Sk64ti+C/CI1x7xs09b+DRq2Q1Tv3v36i2lPN6J4/1ieCt/Y96r+jrOE5gl7qv9AduFP8JOW/JyVRJfYHA8CRdZvd536av5BOlpTGdNy//R9xHfi65D+pngW0Z0jRv62RGu4Q18g/aqrcsQNd+T/XfWt6pRjqP4uTFFjqDuA/76gNGGad779Jggt5LxTXv1LW+zRyNsa/pstfa1xK/z/KwgUZ1mz0P3CH1Mk09fG/TrfaW2ZFAkB+T+ctFOCgP545rxBr8N2/aOS2fsamqb/x45mnxEvTv9ypmT7sWPO/rde30mrhl7/4I2unRu/Rv/1FcmriYeg/aXCkqwAz6r8/Wpb4Gtfhv6jSGFlfM8S/EtML110npT9EKMI5W6D2P3B227aqdrO/pnLemYhS4z8=",
          "dtype": "f8"
         },
         "z": {
          "bdata": "2ZyEsdqUUkC8KOZ14ZFJwAkL4bOhny3AOzQd3AewN0BtkZuHhaMEwBCa3u8a0xFAOtvjJ4rZSkD6fihLgT5TQP5D0XMYGD/A7PP2/R9/UEAlvXUBc+hbQLj4y159mVTASoqLAGkpbcCG/AQJ41RlwJQmKskzsVDAJ9iNIBwickBWasnjoqZXwL7sTpLxi2DA3eG0+UtWWkCY14oFlRVZwIaF/uHvhlRAZqLBaS5ZU8CHYHv3XGIwwAPa5rMqznBA4YkYjmlQOEANLRa4ScVWwLz/gKe+pU3AQOit1tuTLsDfdxNnkzBUQND+sANC6UVAzmoy4j/xUEDMSBRLyedkwK5k4vtKLGJADAWquNCsYEAURwgrQ71aQD1fMHRMhVdAZbn4l5+bW0ComEZhjcpiwOO5bKVvLGDAQYpR+sCaakBITdwMpftFQDSKimI2VENAGc3T82kmdUDdbb1pp29VQEBdl+nJ8Pk/SgSkq7PUK0BurkNe3vxeQKeKnMg2km/AeNKvjn5fPMCkHC5Wh01nwEqdr9a8rWVAen/sYYFIaUACE9CEqPRNwNx8o1++j1HA5w3YBm6+X0ABwF3KBURYQGBrROhLs15AkECGtY8Q9b8J7qO3Vl5mQKRecAJFlxFANBu8BeZ0OUDablgEt69VQMLMvwCv8kZAGSNPHsXZN0AHg1sQjldWwHjAYomwXgnAfnnWmr9sNMBQqlfAQNtTwHBkPUJjiwnAIs2SO7WUacA7wxsiWJxjQAFKRNEo7mDAAcvLgG0pUcCu7xOMjGtZwAqAhFs0+lvADPkkmt2/XEBXkSFE5W5IwBD3aXYj3WVA8CWX9pLZDUDEfX/zeH9hQBIMu7F5fFVAmKlcaE1QckDgz8jnwGBbQHZG0kwdMmnAADhBLtKR67+GV38xjKJlwLia4fRvclHAmommFrE/RMAZ0T1UN0pXQOjTqYqhTTXANlaWCiXxPkCsZhGIAuJUwGsoUCyKyF5AMM7wmQNDNcDaMwIoh2RKwKafl8wMymFAjO0Tm62sPUDgOGkbAZZHwAA9SKyfjwjAImkoQw0sWUA=",
          "dtype": "f8"
         }
        },
        {
         "opacity": 0.4,
         "type": "surface",
         "x": {
          "bdata": "AAAAAAAAFMDHcRzHcRwPwI7jOI7jOAbAqqqqqqqq+r9wHMdxHMfhv3Acx3Ecx+E/rKqqqqqq+j+Q4ziO4zgGQMhxHMdxHA9AAAAAAAAAFEA=",
          "dtype": "f8"
         },
         "y": {
          "bdata": "AAAAAAAAFMDHcRzHcRwPwI7jOI7jOAbAqqqqqqqq+r9wHMdxHMfhv3Acx3Ecx+E/rKqqqqqq+j+Q4ziO4zgGQMhxHMdxHA9AAAAAAAAAFEA=",
          "dtype": "f8"
         },
         "z": {
          "bdata": "z+kul8swi8Bt3aVHxPqHwA3RHPi8xITAq8STqLWOgcCVcBWyXLF8wNNXAxNORXbAIX7i536yb8CcTL6pYdpiwGBsaK4RCUjAqFkoSmNXS0AjJP53cGOIwMIXdShpLYXAYQvs2GH3gcAA/sUStYJ9wD7ls3OmFnfAfMyh1JeqcMBzZx9rEn1kwLjX7LPUk07AWO6jRKDMREAYLU1PRQtiQHdezVgVloXAFlJECQ5ggsBqi3ZzDVR+wKhyZNT+53fA5llSNfB7ccBIgoAswx9mwIahuNxLj1LAEAY/frqDPEBGEuyNlGhgQMhDEMyxQG1Ay5icObrIgsDUGCfUZSV/wBIAFTVXuXjAUOcClkhNcsAcneHtc8JnwDPXel+t1FXAv15s5mjcLkDi7hWZx4tdQPUorwoBnmtAPK1pJA87dEA+ptc0vvZ/wHyNxZWvinnAunSz9qAec8Dxt0KvJGVpwNkMPeIOGlnAnMVqQXPFAkA4uVMWZkZaQCEOTklQ+2lA0h+5w7Zpc0CUOMtixdV5QOgadvYHXHrAJgJkV/nvc8DH0qNw1QdrwIZC/2RwX1zA6fu2Ra95JcCJg5GTBAFXQErz7IefWGhAaJIIY16YckAqqxoCbQR5QOrDLKF7cH9Aj48UuFHBdMCa7QQyhqpswCx4wefRpF/AkFTkrV3SN8DlTc8Qo7tTQHbYi8butWZA/gRYAgbHcUDAHWqhFDN4QII2fEAjn35AoSfH75iFgkBtCGbzNk1uwOnWQbUZdWHAlJV23PFzQsA+GA2OQXZQQKS9KgU+E2VAk3enoa31cEBWkLlAvGF3QBipy9/KzX1A7eBuv+wcgkBO7fcO9FKFQMDxonbKF2PA8AD74bT+SMAgxZUWwGFKQMyiyUONcGNAKOr2QFUkcEDqAgngY5B2QKwbG39y/HxAN5oWj0C0gUCZpp/eR+qEQPmyKC5PIIhASGx/53eJT8DIWRER/dZDQPaHaILczWFAermMwPmlbkB/dVh/C791QEGOah4aK3xAglO+XpRLgUDjX0eum4GEQERs0P2it4dApXhZTartikA=",
          "dtype": "f8",
          "shape": "10, 10"
         }
        }
       ],
       "layout": {
        "legend": {
         "tracegroupgap": 0
        },
        "margin": {
         "t": 60
        },
        "scene": {
         "domain": {
          "x": [
           0,
           1
          ],
          "y": [
           0,
           1
          ]
         },
         "xaxis": {
          "title": {
           "text": "feature1"
          }
         },
         "yaxis": {
          "title": {
           "text": "feature2"
          }
         },
         "zaxis": {
          "title": {
           "text": "target"
          }
         }
        },
        "template": {
         "data": {
          "bar": [
           {
            "error_x": {
             "color": "#2a3f5f"
            },
            "error_y": {
             "color": "#2a3f5f"
            },
            "marker": {
             "line": {
              "color": "#E5ECF6",
              "width": 0.5
             },
             "pattern": {
              "fillmode": "overlay",
              "size": 10,
              "solidity": 0.2
             }
            },
            "type": "bar"
           }
          ],
          "barpolar": [
           {
            "marker": {
             "line": {
              "color": "#E5ECF6",
              "width": 0.5
             },
             "pattern": {
              "fillmode": "overlay",
              "size": 10,
              "solidity": 0.2
             }
            },
            "type": "barpolar"
           }
          ],
          "carpet": [
           {
            "aaxis": {
             "endlinecolor": "#2a3f5f",
             "gridcolor": "white",
             "linecolor": "white",
             "minorgridcolor": "white",
             "startlinecolor": "#2a3f5f"
            },
            "baxis": {
             "endlinecolor": "#2a3f5f",
             "gridcolor": "white",
             "linecolor": "white",
             "minorgridcolor": "white",
             "startlinecolor": "#2a3f5f"
            },
            "type": "carpet"
           }
          ],
          "choropleth": [
           {
            "colorbar": {
             "outlinewidth": 0,
             "ticks": ""
            },
            "type": "choropleth"
           }
          ],
          "contour": [
           {
            "colorbar": {
             "outlinewidth": 0,
             "ticks": ""
            },
            "colorscale": [
             [
              0,
              "#0d0887"
             ],
             [
              0.1111111111111111,
              "#46039f"
             ],
             [
              0.2222222222222222,
              "#7201a8"
             ],
             [
              0.3333333333333333,
              "#9c179e"
             ],
             [
              0.4444444444444444,
              "#bd3786"
             ],
             [
              0.5555555555555556,
              "#d8576b"
             ],
             [
              0.6666666666666666,
              "#ed7953"
             ],
             [
              0.7777777777777778,
              "#fb9f3a"
             ],
             [
              0.8888888888888888,
              "#fdca26"
             ],
             [
              1,
              "#f0f921"
             ]
            ],
            "type": "contour"
           }
          ],
          "contourcarpet": [
           {
            "colorbar": {
             "outlinewidth": 0,
             "ticks": ""
            },
            "type": "contourcarpet"
           }
          ],
          "heatmap": [
           {
            "colorbar": {
             "outlinewidth": 0,
             "ticks": ""
            },
            "colorscale": [
             [
              0,
              "#0d0887"
             ],
             [
              0.1111111111111111,
              "#46039f"
             ],
             [
              0.2222222222222222,
              "#7201a8"
             ],
             [
              0.3333333333333333,
              "#9c179e"
             ],
             [
              0.4444444444444444,
              "#bd3786"
             ],
             [
              0.5555555555555556,
              "#d8576b"
             ],
             [
              0.6666666666666666,
              "#ed7953"
             ],
             [
              0.7777777777777778,
              "#fb9f3a"
             ],
             [
              0.8888888888888888,
              "#fdca26"
             ],
             [
              1,
              "#f0f921"
             ]
            ],
            "type": "heatmap"
           }
          ],
          "histogram": [
           {
            "marker": {
             "pattern": {
              "fillmode": "overlay",
              "size": 10,
              "solidity": 0.2
             }
            },
            "type": "histogram"
           }
          ],
          "histogram2d": [
           {
            "colorbar": {
             "outlinewidth": 0,
             "ticks": ""
            },
            "colorscale": [
             [
              0,
              "#0d0887"
             ],
             [
              0.1111111111111111,
              "#46039f"
             ],
             [
              0.2222222222222222,
              "#7201a8"
             ],
             [
              0.3333333333333333,
              "#9c179e"
             ],
             [
              0.4444444444444444,
              "#bd3786"
             ],
             [
              0.5555555555555556,
              "#d8576b"
             ],
             [
              0.6666666666666666,
              "#ed7953"
             ],
             [
              0.7777777777777778,
              "#fb9f3a"
             ],
             [
              0.8888888888888888,
              "#fdca26"
             ],
             [
              1,
              "#f0f921"
             ]
            ],
            "type": "histogram2d"
           }
          ],
          "histogram2dcontour": [
           {
            "colorbar": {
             "outlinewidth": 0,
             "ticks": ""
            },
            "colorscale": [
             [
              0,
              "#0d0887"
             ],
             [
              0.1111111111111111,
              "#46039f"
             ],
             [
              0.2222222222222222,
              "#7201a8"
             ],
             [
              0.3333333333333333,
              "#9c179e"
             ],
             [
              0.4444444444444444,
              "#bd3786"
             ],
             [
              0.5555555555555556,
              "#d8576b"
             ],
             [
              0.6666666666666666,
              "#ed7953"
             ],
             [
              0.7777777777777778,
              "#fb9f3a"
             ],
             [
              0.8888888888888888,
              "#fdca26"
             ],
             [
              1,
              "#f0f921"
             ]
            ],
            "type": "histogram2dcontour"
           }
          ],
          "mesh3d": [
           {
            "colorbar": {
             "outlinewidth": 0,
             "ticks": ""
            },
            "type": "mesh3d"
           }
          ],
          "parcoords": [
           {
            "line": {
             "colorbar": {
              "outlinewidth": 0,
              "ticks": ""
             }
            },
            "type": "parcoords"
           }
          ],
          "pie": [
           {
            "automargin": true,
            "type": "pie"
           }
          ],
          "scatter": [
           {
            "fillpattern": {
             "fillmode": "overlay",
             "size": 10,
             "solidity": 0.2
            },
            "type": "scatter"
           }
          ],
          "scatter3d": [
           {
            "line": {
             "colorbar": {
              "outlinewidth": 0,
              "ticks": ""
             }
            },
            "marker": {
             "colorbar": {
              "outlinewidth": 0,
              "ticks": ""
             }
            },
            "type": "scatter3d"
           }
          ],
          "scattercarpet": [
           {
            "marker": {
             "colorbar": {
              "outlinewidth": 0,
              "ticks": ""
             }
            },
            "type": "scattercarpet"
           }
          ],
          "scattergeo": [
           {
            "marker": {
             "colorbar": {
              "outlinewidth": 0,
              "ticks": ""
             }
            },
            "type": "scattergeo"
           }
          ],
          "scattergl": [
           {
            "marker": {
             "colorbar": {
              "outlinewidth": 0,
              "ticks": ""
             }
            },
            "type": "scattergl"
           }
          ],
          "scattermap": [
           {
            "marker": {
             "colorbar": {
              "outlinewidth": 0,
              "ticks": ""
             }
            },
            "type": "scattermap"
           }
          ],
          "scattermapbox": [
           {
            "marker": {
             "colorbar": {
              "outlinewidth": 0,
              "ticks": ""
             }
            },
            "type": "scattermapbox"
           }
          ],
          "scatterpolar": [
           {
            "marker": {
             "colorbar": {
              "outlinewidth": 0,
              "ticks": ""
             }
            },
            "type": "scatterpolar"
           }
          ],
          "scatterpolargl": [
           {
            "marker": {
             "colorbar": {
              "outlinewidth": 0,
              "ticks": ""
             }
            },
            "type": "scatterpolargl"
           }
          ],
          "scatterternary": [
           {
            "marker": {
             "colorbar": {
              "outlinewidth": 0,
              "ticks": ""
             }
            },
            "type": "scatterternary"
           }
          ],
          "surface": [
           {
            "colorbar": {
             "outlinewidth": 0,
             "ticks": ""
            },
            "colorscale": [
             [
              0,
              "#0d0887"
             ],
             [
              0.1111111111111111,
              "#46039f"
             ],
             [
              0.2222222222222222,
              "#7201a8"
             ],
             [
              0.3333333333333333,
              "#9c179e"
             ],
             [
              0.4444444444444444,
              "#bd3786"
             ],
             [
              0.5555555555555556,
              "#d8576b"
             ],
             [
              0.6666666666666666,
              "#ed7953"
             ],
             [
              0.7777777777777778,
              "#fb9f3a"
             ],
             [
              0.8888888888888888,
              "#fdca26"
             ],
             [
              1,
              "#f0f921"
             ]
            ],
            "type": "surface"
           }
          ],
          "table": [
           {
            "cells": {
             "fill": {
              "color": "#EBF0F8"
             },
             "line": {
              "color": "white"
             }
            },
            "header": {
             "fill": {
              "color": "#C8D4E3"
             },
             "line": {
              "color": "white"
             }
            },
            "type": "table"
           }
          ]
         },
         "layout": {
          "annotationdefaults": {
           "arrowcolor": "#2a3f5f",
           "arrowhead": 0,
           "arrowwidth": 1
          },
          "autotypenumbers": "strict",
          "coloraxis": {
           "colorbar": {
            "outlinewidth": 0,
            "ticks": ""
           }
          },
          "colorscale": {
           "diverging": [
            [
             0,
             "#8e0152"
            ],
            [
             0.1,
             "#c51b7d"
            ],
            [
             0.2,
             "#de77ae"
            ],
            [
             0.3,
             "#f1b6da"
            ],
            [
             0.4,
             "#fde0ef"
            ],
            [
             0.5,
             "#f7f7f7"
            ],
            [
             0.6,
             "#e6f5d0"
            ],
            [
             0.7,
             "#b8e186"
            ],
            [
             0.8,
             "#7fbc41"
            ],
            [
             0.9,
             "#4d9221"
            ],
            [
             1,
             "#276419"
            ]
           ],
           "sequential": [
            [
             0,
             "#0d0887"
            ],
            [
             0.1111111111111111,
             "#46039f"
            ],
            [
             0.2222222222222222,
             "#7201a8"
            ],
            [
             0.3333333333333333,
             "#9c179e"
            ],
            [
             0.4444444444444444,
             "#bd3786"
            ],
            [
             0.5555555555555556,
             "#d8576b"
            ],
            [
             0.6666666666666666,
             "#ed7953"
            ],
            [
             0.7777777777777778,
             "#fb9f3a"
            ],
            [
             0.8888888888888888,
             "#fdca26"
            ],
            [
             1,
             "#f0f921"
            ]
           ],
           "sequentialminus": [
            [
             0,
             "#0d0887"
            ],
            [
             0.1111111111111111,
             "#46039f"
            ],
            [
             0.2222222222222222,
             "#7201a8"
            ],
            [
             0.3333333333333333,
             "#9c179e"
            ],
            [
             0.4444444444444444,
             "#bd3786"
            ],
            [
             0.5555555555555556,
             "#d8576b"
            ],
            [
             0.6666666666666666,
             "#ed7953"
            ],
            [
             0.7777777777777778,
             "#fb9f3a"
            ],
            [
             0.8888888888888888,
             "#fdca26"
            ],
            [
             1,
             "#f0f921"
            ]
           ]
          },
          "colorway": [
           "#636efa",
           "#EF553B",
           "#00cc96",
           "#ab63fa",
           "#FFA15A",
           "#19d3f3",
           "#FF6692",
           "#B6E880",
           "#FF97FF",
           "#FECB52"
          ],
          "font": {
           "color": "#2a3f5f"
          },
          "geo": {
           "bgcolor": "white",
           "lakecolor": "white",
           "landcolor": "#E5ECF6",
           "showlakes": true,
           "showland": true,
           "subunitcolor": "white"
          },
          "hoverlabel": {
           "align": "left"
          },
          "hovermode": "closest",
          "mapbox": {
           "style": "light"
          },
          "paper_bgcolor": "white",
          "plot_bgcolor": "#E5ECF6",
          "polar": {
           "angularaxis": {
            "gridcolor": "white",
            "linecolor": "white",
            "ticks": ""
           },
           "bgcolor": "#E5ECF6",
           "radialaxis": {
            "gridcolor": "white",
            "linecolor": "white",
            "ticks": ""
           }
          },
          "scene": {
           "xaxis": {
            "backgroundcolor": "#E5ECF6",
            "gridcolor": "white",
            "gridwidth": 2,
            "linecolor": "white",
            "showbackground": true,
            "ticks": "",
            "zerolinecolor": "white"
           },
           "yaxis": {
            "backgroundcolor": "#E5ECF6",
            "gridcolor": "white",
            "gridwidth": 2,
            "linecolor": "white",
            "showbackground": true,
            "ticks": "",
            "zerolinecolor": "white"
           },
           "zaxis": {
            "backgroundcolor": "#E5ECF6",
            "gridcolor": "white",
            "gridwidth": 2,
            "linecolor": "white",
            "showbackground": true,
            "ticks": "",
            "zerolinecolor": "white"
           }
          },
          "shapedefaults": {
           "line": {
            "color": "#2a3f5f"
           }
          },
          "ternary": {
           "aaxis": {
            "gridcolor": "white",
            "linecolor": "white",
            "ticks": ""
           },
           "baxis": {
            "gridcolor": "white",
            "linecolor": "white",
            "ticks": ""
           },
           "bgcolor": "#E5ECF6",
           "caxis": {
            "gridcolor": "white",
            "linecolor": "white",
            "ticks": ""
           }
          },
          "title": {
           "x": 0.05
          },
          "xaxis": {
           "automargin": true,
           "gridcolor": "white",
           "linecolor": "white",
           "ticks": "",
           "title": {
            "standoff": 15
           },
           "zerolinecolor": "white",
           "zerolinewidth": 2
          },
          "yaxis": {
           "automargin": true,
           "gridcolor": "white",
           "linecolor": "white",
           "ticks": "",
           "title": {
            "standoff": 15
           },
           "zerolinecolor": "white",
           "zerolinewidth": 2
          }
         }
        }
       }
      }
     },
     "metadata": {},
     "output_type": "display_data"
    }
   ],
   "source": [
    "x = np.linspace(-5,5,10)\n",
    "y = np.linspace(-5,5,10)\n",
    "xGrid,yGrid = np.meshgrid(y,x)\n",
    "final = np.vstack((xGrid.ravel(), yGrid.ravel())).T\n",
    "\n",
    "z_final = lr.predict(final).reshape(10,10)\n",
    "\n",
    "z = z_final\n",
    "final = np.vstack((xGrid.ravel().reshape(1,100),yGrid.ravel().reshape(1,100))).T\n",
    "fig = px.scatter_3d(df,x = 'feature1',y = 'feature2', z = 'target')\n",
    "fig.add_trace(go.Surface(x=x,y=y,z=z,opacity=0.4))\n",
    "fig.show()"
   ]
  },
  {
   "cell_type": "code",
   "execution_count": null,
   "id": "b926d711",
   "metadata": {},
   "outputs": [],
   "source": []
  }
 ],
 "metadata": {
  "kernelspec": {
   "display_name": "Python 3",
   "language": "python",
   "name": "python3"
  },
  "language_info": {
   "codemirror_mode": {
    "name": "ipython",
    "version": 3
   },
   "file_extension": ".py",
   "mimetype": "text/x-python",
   "name": "python",
   "nbconvert_exporter": "python",
   "pygments_lexer": "ipython3",
   "version": "3.11.9"
  }
 },
 "nbformat": 4,
 "nbformat_minor": 5
}
