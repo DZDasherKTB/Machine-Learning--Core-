{
 "cells": [
  {
   "cell_type": "code",
   "execution_count": 2,
   "id": "7af247d2",
   "metadata": {},
   "outputs": [],
   "source": [
    "from sklearn.datasets import make_classification\n",
    "from sklearn.model_selection import train_test_split\n",
    "from sklearn.metrics import accuracy_score\n",
    "from sklearn.ensemble import GradientBoostingClassifier\n",
    "import xgboost as xgb\n",
    "import time"
   ]
  },
  {
   "cell_type": "code",
   "execution_count": 3,
   "id": "288f0696",
   "metadata": {},
   "outputs": [],
   "source": [
    "x,y = make_classification(n_samples=10000,n_features=200,random_state=42)\n",
    "x_train,x_test,y_train,y_test = train_test_split(x,y,test_size=0.2, random_state=42)\n"
   ]
  },
  {
   "cell_type": "code",
   "execution_count": 8,
   "id": "b6621820",
   "metadata": {},
   "outputs": [],
   "source": [
    "gb_model = GradientBoostingClassifier(random_state=42)\n",
    "xgb_model = xgb.XGBClassifier(random_state=42, use_label_encoder=False,eval_metric='logloss')\n",
    "xgb_gpu_model = xgb.XGBClassifier(random_state=42, use_label_encoder=False,eval_metric='logloss',tree_method = 'gpu_hist')"
   ]
  },
  {
   "cell_type": "code",
   "execution_count": 9,
   "id": "b99c6d30",
   "metadata": {},
   "outputs": [
    {
     "name": "stderr",
     "output_type": "stream",
     "text": [
      "C:\\Users\\dashp\\AppData\\Local\\Packages\\PythonSoftwareFoundation.Python.3.11_qbz5n2kfra8p0\\LocalCache\\local-packages\\Python311\\site-packages\\xgboost\\training.py:183: UserWarning: [12:44:26] WARNING: C:\\actions-runner\\_work\\xgboost\\xgboost\\src\\learner.cc:738: \n",
      "Parameters: { \"use_label_encoder\" } are not used.\n",
      "\n",
      "  bst.update(dtrain, iteration=i, fobj=obj)\n",
      "C:\\Users\\dashp\\AppData\\Local\\Packages\\PythonSoftwareFoundation.Python.3.11_qbz5n2kfra8p0\\LocalCache\\local-packages\\Python311\\site-packages\\xgboost\\training.py:183: UserWarning: [12:44:29] WARNING: C:\\actions-runner\\_work\\xgboost\\xgboost\\src\\common\\error_msg.cc:27: The tree method `gpu_hist` is deprecated since 2.0.0. To use GPU training, set the `device` parameter to CUDA instead.\n",
      "\n",
      "    E.g. tree_method = \"hist\", device = \"cuda\"\n",
      "\n",
      "  bst.update(dtrain, iteration=i, fobj=obj)\n",
      "C:\\Users\\dashp\\AppData\\Local\\Packages\\PythonSoftwareFoundation.Python.3.11_qbz5n2kfra8p0\\LocalCache\\local-packages\\Python311\\site-packages\\xgboost\\training.py:183: UserWarning: [12:44:29] WARNING: C:\\actions-runner\\_work\\xgboost\\xgboost\\src\\learner.cc:738: \n",
      "Parameters: { \"use_label_encoder\" } are not used.\n",
      "\n",
      "  bst.update(dtrain, iteration=i, fobj=obj)\n",
      "C:\\Users\\dashp\\AppData\\Local\\Packages\\PythonSoftwareFoundation.Python.3.11_qbz5n2kfra8p0\\LocalCache\\local-packages\\Python311\\site-packages\\xgboost\\core.py:2676: UserWarning: [12:44:30] WARNING: C:\\actions-runner\\_work\\xgboost\\xgboost\\src\\common\\error_msg.cc:27: The tree method `gpu_hist` is deprecated since 2.0.0. To use GPU training, set the `device` parameter to CUDA instead.\n",
      "\n",
      "    E.g. tree_method = \"hist\", device = \"cuda\"\n",
      "\n",
      "  if len(data.shape) != 1 and self.num_features() != data.shape[1]:\n"
     ]
    },
    {
     "data": {
      "text/plain": [
       "(98.98944735527039,\n",
       " 0.9325,\n",
       " 2.4101178646087646,\n",
       " 0.935,\n",
       " 1.1120336055755615,\n",
       " 0.934)"
      ]
     },
     "execution_count": 9,
     "metadata": {},
     "output_type": "execute_result"
    }
   ],
   "source": [
    "start_gb = time.time()\n",
    "gb_model.fit(x_train,y_train)\n",
    "end_gb = time.time()\n",
    "gb_time= end_gb-start_gb\n",
    "gb_predictions = gb_model.predict(x_test)\n",
    "gb_accuracy = accuracy_score(y_test,gb_predictions)\n",
    "\n",
    "start_xgb = time.time()\n",
    "xgb_model.fit(x_train,y_train)\n",
    "end_xgb = time.time()\n",
    "xgb_time= end_xgb-start_xgb\n",
    "xgb_predictions = xgb_model.predict(x_test)\n",
    "xgb_accuracy = accuracy_score(y_test,xgb_predictions)\n",
    "\n",
    "start_xgb_gpu = time.time()\n",
    "xgb_gpu_model.fit(x_train,y_train)\n",
    "end_xgb_gpu = time.time()\n",
    "xgb_gpu_time= end_xgb_gpu-start_xgb_gpu\n",
    "xgb_gpu_predictions = xgb_gpu_model.predict(x_test)\n",
    "xgb_gpu_accuracy = accuracy_score(y_test,xgb_gpu_predictions)\n",
    "\n",
    "gb_time,gb_accuracy,xgb_time,xgb_accuracy,xgb_gpu_time,xgb_gpu_accuracy"
   ]
  },
  {
   "cell_type": "markdown",
   "id": "9cefcd1e",
   "metadata": {},
   "source": [
    "The time difference is INSANE fr\n",
    "\n",
    " --XGBoost is written in C++ with parallelism in mind."
   ]
  }
 ],
 "metadata": {
  "kernelspec": {
   "display_name": "Python 3",
   "language": "python",
   "name": "python3"
  },
  "language_info": {
   "codemirror_mode": {
    "name": "ipython",
    "version": 3
   },
   "file_extension": ".py",
   "mimetype": "text/x-python",
   "name": "python",
   "nbconvert_exporter": "python",
   "pygments_lexer": "ipython3",
   "version": "3.11.9"
  }
 },
 "nbformat": 4,
 "nbformat_minor": 5
}
