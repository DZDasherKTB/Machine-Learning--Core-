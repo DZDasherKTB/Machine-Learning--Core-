{
 "cells": [
  {
   "cell_type": "code",
   "execution_count": 2,
   "id": "a584bf25",
   "metadata": {},
   "outputs": [],
   "source": [
    "import numpy as np\n",
    "import pandas as pd"
   ]
  },
  {
   "cell_type": "code",
   "execution_count": null,
   "id": "d02b34b7",
   "metadata": {},
   "outputs": [],
   "source": [
    "df = pd.read_csv('./data/housing.csv',header=None)\n",
    "df = df[0].str.split(expand=True)\n",
    "df =  df.astype(float)\n",
    "df.columns = [\n",
    "    'CRIM', 'ZN', 'INDUS', 'CHAS', 'NOX', 'RM', 'AGE',\n",
    "    'DIS', 'RAD', 'TAX', 'PTRATIO', 'B', 'LSTAT', 'MEDV'\n",
    "]"
   ]
  },
  {
   "cell_type": "code",
   "execution_count": 4,
   "id": "8a355528",
   "metadata": {},
   "outputs": [
    {
     "data": {
      "text/html": [
       "<div>\n",
       "<style scoped>\n",
       "    .dataframe tbody tr th:only-of-type {\n",
       "        vertical-align: middle;\n",
       "    }\n",
       "\n",
       "    .dataframe tbody tr th {\n",
       "        vertical-align: top;\n",
       "    }\n",
       "\n",
       "    .dataframe thead th {\n",
       "        text-align: right;\n",
       "    }\n",
       "</style>\n",
       "<table border=\"1\" class=\"dataframe\">\n",
       "  <thead>\n",
       "    <tr style=\"text-align: right;\">\n",
       "      <th></th>\n",
       "      <th>CRIM</th>\n",
       "      <th>ZN</th>\n",
       "      <th>INDUS</th>\n",
       "      <th>CHAS</th>\n",
       "      <th>NOX</th>\n",
       "      <th>RM</th>\n",
       "      <th>AGE</th>\n",
       "      <th>DIS</th>\n",
       "      <th>RAD</th>\n",
       "      <th>TAX</th>\n",
       "      <th>PTRATIO</th>\n",
       "      <th>B</th>\n",
       "      <th>LSTAT</th>\n",
       "      <th>MEDV</th>\n",
       "    </tr>\n",
       "  </thead>\n",
       "  <tbody>\n",
       "    <tr>\n",
       "      <th>0</th>\n",
       "      <td>0.00632</td>\n",
       "      <td>18.0</td>\n",
       "      <td>2.31</td>\n",
       "      <td>0.0</td>\n",
       "      <td>0.538</td>\n",
       "      <td>6.575</td>\n",
       "      <td>65.2</td>\n",
       "      <td>4.0900</td>\n",
       "      <td>1.0</td>\n",
       "      <td>296.0</td>\n",
       "      <td>15.3</td>\n",
       "      <td>396.90</td>\n",
       "      <td>4.98</td>\n",
       "      <td>24.0</td>\n",
       "    </tr>\n",
       "    <tr>\n",
       "      <th>1</th>\n",
       "      <td>0.02731</td>\n",
       "      <td>0.0</td>\n",
       "      <td>7.07</td>\n",
       "      <td>0.0</td>\n",
       "      <td>0.469</td>\n",
       "      <td>6.421</td>\n",
       "      <td>78.9</td>\n",
       "      <td>4.9671</td>\n",
       "      <td>2.0</td>\n",
       "      <td>242.0</td>\n",
       "      <td>17.8</td>\n",
       "      <td>396.90</td>\n",
       "      <td>9.14</td>\n",
       "      <td>21.6</td>\n",
       "    </tr>\n",
       "    <tr>\n",
       "      <th>2</th>\n",
       "      <td>0.02729</td>\n",
       "      <td>0.0</td>\n",
       "      <td>7.07</td>\n",
       "      <td>0.0</td>\n",
       "      <td>0.469</td>\n",
       "      <td>7.185</td>\n",
       "      <td>61.1</td>\n",
       "      <td>4.9671</td>\n",
       "      <td>2.0</td>\n",
       "      <td>242.0</td>\n",
       "      <td>17.8</td>\n",
       "      <td>392.83</td>\n",
       "      <td>4.03</td>\n",
       "      <td>34.7</td>\n",
       "    </tr>\n",
       "    <tr>\n",
       "      <th>3</th>\n",
       "      <td>0.03237</td>\n",
       "      <td>0.0</td>\n",
       "      <td>2.18</td>\n",
       "      <td>0.0</td>\n",
       "      <td>0.458</td>\n",
       "      <td>6.998</td>\n",
       "      <td>45.8</td>\n",
       "      <td>6.0622</td>\n",
       "      <td>3.0</td>\n",
       "      <td>222.0</td>\n",
       "      <td>18.7</td>\n",
       "      <td>394.63</td>\n",
       "      <td>2.94</td>\n",
       "      <td>33.4</td>\n",
       "    </tr>\n",
       "    <tr>\n",
       "      <th>4</th>\n",
       "      <td>0.06905</td>\n",
       "      <td>0.0</td>\n",
       "      <td>2.18</td>\n",
       "      <td>0.0</td>\n",
       "      <td>0.458</td>\n",
       "      <td>7.147</td>\n",
       "      <td>54.2</td>\n",
       "      <td>6.0622</td>\n",
       "      <td>3.0</td>\n",
       "      <td>222.0</td>\n",
       "      <td>18.7</td>\n",
       "      <td>396.90</td>\n",
       "      <td>5.33</td>\n",
       "      <td>36.2</td>\n",
       "    </tr>\n",
       "  </tbody>\n",
       "</table>\n",
       "</div>"
      ],
      "text/plain": [
       "      CRIM    ZN  INDUS  CHAS    NOX     RM   AGE     DIS  RAD    TAX  \\\n",
       "0  0.00632  18.0   2.31   0.0  0.538  6.575  65.2  4.0900  1.0  296.0   \n",
       "1  0.02731   0.0   7.07   0.0  0.469  6.421  78.9  4.9671  2.0  242.0   \n",
       "2  0.02729   0.0   7.07   0.0  0.469  7.185  61.1  4.9671  2.0  242.0   \n",
       "3  0.03237   0.0   2.18   0.0  0.458  6.998  45.8  6.0622  3.0  222.0   \n",
       "4  0.06905   0.0   2.18   0.0  0.458  7.147  54.2  6.0622  3.0  222.0   \n",
       "\n",
       "   PTRATIO       B  LSTAT  MEDV  \n",
       "0     15.3  396.90   4.98  24.0  \n",
       "1     17.8  396.90   9.14  21.6  \n",
       "2     17.8  392.83   4.03  34.7  \n",
       "3     18.7  394.63   2.94  33.4  \n",
       "4     18.7  396.90   5.33  36.2  "
      ]
     },
     "execution_count": 4,
     "metadata": {},
     "output_type": "execute_result"
    }
   ],
   "source": [
    "df.head()"
   ]
  },
  {
   "cell_type": "code",
   "execution_count": 5,
   "id": "feddb1ba",
   "metadata": {},
   "outputs": [],
   "source": [
    "x,y = df.iloc[:,:-1],df.iloc[:,-1]"
   ]
  },
  {
   "cell_type": "code",
   "execution_count": 6,
   "id": "0ede1db1",
   "metadata": {},
   "outputs": [],
   "source": [
    "from sklearn.linear_model import LinearRegression\n",
    "from sklearn.tree import DecisionTreeRegressor\n",
    "from sklearn.svm import SVR\n",
    "from sklearn.model_selection import cross_val_score"
   ]
  },
  {
   "cell_type": "code",
   "execution_count": 7,
   "id": "4d64b85d",
   "metadata": {},
   "outputs": [],
   "source": [
    "lr = LinearRegression()\n",
    "dt = DecisionTreeRegressor()\n",
    "svr = SVR()\n",
    "\n"
   ]
  },
  {
   "cell_type": "code",
   "execution_count": 8,
   "id": "04cc39e2",
   "metadata": {},
   "outputs": [],
   "source": [
    "estimators = [('lr',lr),('dt',dt),('svr',svr)]"
   ]
  },
  {
   "cell_type": "code",
   "execution_count": 9,
   "id": "40e14d8b",
   "metadata": {},
   "outputs": [
    {
     "name": "stdout",
     "output_type": "stream",
     "text": [
      "lr 0.2\n",
      "dt -0.08\n",
      "svr -0.41\n"
     ]
    }
   ],
   "source": [
    "for estimator in estimators:\n",
    "  X = cross_val_score(estimator[1],x,y,cv=10,scoring='r2')\n",
    "  print(estimator[0],np.round(np.mean(X),2))"
   ]
  },
  {
   "cell_type": "code",
   "execution_count": 10,
   "id": "b4079d56",
   "metadata": {},
   "outputs": [
    {
     "name": "stdout",
     "output_type": "stream",
     "text": [
      "Voting Regressor 0.45\n"
     ]
    }
   ],
   "source": [
    "from sklearn.ensemble import VotingRegressor\n",
    "\n",
    "vr = VotingRegressor(estimators)\n",
    "scores = cross_val_score(vr,x,y,scoring = 'r2',cv = 10)\n",
    "print('Voting Regressor',np.round(np.mean(scores),2))"
   ]
  },
  {
   "cell_type": "code",
   "execution_count": 11,
   "id": "d51cc3b0",
   "metadata": {},
   "outputs": [
    {
     "name": "stdout",
     "output_type": "stream",
     "text": [
      "for i =1, j = 1, k = 1 0.43\n",
      "for i =1, j = 1, k = 2 0.35\n",
      "for i =1, j = 1, k = 3 0.27\n",
      "for i =1, j = 1, k = 4 0.19\n",
      "for i =1, j = 2, k = 1 0.4\n",
      "for i =1, j = 2, k = 2 0.41\n",
      "for i =1, j = 2, k = 3 0.33\n",
      "for i =1, j = 2, k = 4 0.26\n",
      "for i =1, j = 3, k = 1 0.39\n",
      "for i =1, j = 3, k = 2 0.35\n",
      "for i =1, j = 3, k = 3 0.38\n",
      "for i =1, j = 3, k = 4 0.33\n",
      "for i =1, j = 4, k = 1 0.26\n",
      "for i =1, j = 4, k = 2 0.36\n",
      "for i =1, j = 4, k = 3 0.35\n",
      "for i =1, j = 4, k = 4 0.37\n",
      "for i =2, j = 1, k = 1 0.47\n",
      "for i =2, j = 1, k = 2 0.42\n",
      "for i =2, j = 1, k = 3 0.36\n",
      "for i =2, j = 1, k = 4 0.3\n",
      "for i =2, j = 2, k = 1 0.44\n",
      "for i =2, j = 2, k = 2 0.43\n",
      "for i =2, j = 2, k = 3 0.38\n",
      "for i =2, j = 2, k = 4 0.37\n",
      "for i =2, j = 3, k = 1 0.38\n",
      "for i =2, j = 3, k = 2 0.43\n",
      "for i =2, j = 3, k = 3 0.41\n",
      "for i =2, j = 3, k = 4 0.39\n",
      "for i =2, j = 4, k = 1 0.29\n",
      "for i =2, j = 4, k = 2 0.41\n",
      "for i =2, j = 4, k = 3 0.35\n",
      "for i =2, j = 4, k = 4 0.34\n",
      "for i =3, j = 1, k = 1 0.41\n",
      "for i =3, j = 1, k = 2 0.43\n",
      "for i =3, j = 1, k = 3 0.4\n",
      "for i =3, j = 1, k = 4 0.35\n",
      "for i =3, j = 2, k = 1 0.44\n",
      "for i =3, j = 2, k = 2 0.42\n",
      "for i =3, j = 2, k = 3 0.42\n",
      "for i =3, j = 2, k = 4 0.4\n",
      "for i =3, j = 3, k = 1 0.42\n",
      "for i =3, j = 3, k = 2 0.46\n",
      "for i =3, j = 3, k = 3 0.44\n",
      "for i =3, j = 3, k = 4 0.42\n",
      "for i =3, j = 4, k = 1 0.4\n",
      "for i =3, j = 4, k = 2 0.43\n",
      "for i =3, j = 4, k = 3 0.43\n",
      "for i =3, j = 4, k = 4 0.44\n",
      "for i =4, j = 1, k = 1 0.42\n",
      "for i =4, j = 1, k = 2 0.43\n",
      "for i =4, j = 1, k = 3 0.41\n",
      "for i =4, j = 1, k = 4 0.38\n",
      "for i =4, j = 2, k = 1 0.45\n",
      "for i =4, j = 2, k = 2 0.46\n",
      "for i =4, j = 2, k = 3 0.44\n",
      "for i =4, j = 2, k = 4 0.41\n",
      "for i =4, j = 3, k = 1 0.43\n",
      "for i =4, j = 3, k = 2 0.47\n",
      "for i =4, j = 3, k = 3 0.45\n",
      "for i =4, j = 3, k = 4 0.4\n",
      "for i =4, j = 4, k = 1 0.41\n",
      "for i =4, j = 4, k = 2 0.39\n",
      "for i =4, j = 4, k = 3 0.46\n",
      "for i =4, j = 4, k = 4 0.43\n"
     ]
    }
   ],
   "source": [
    "for i in range(1,5):\n",
    "  for j in range(1,5):\n",
    "    for k in range(1,5):\n",
    "      vr = VotingRegressor(estimators,weights=[i,j,k])\n",
    "      scores = cross_val_score(vr,x,y,scoring='r2',cv=10)\n",
    "      print(f\"for i ={i}, j = {j}, k = {k}\",np.round(np.mean(scores),2))"
   ]
  },
  {
   "cell_type": "code",
   "execution_count": 12,
   "id": "36298e90",
   "metadata": {},
   "outputs": [
    {
     "name": "stdout",
     "output_type": "stream",
     "text": [
      "dt1 -0.11\n",
      "dt2 0.06\n",
      "dt3 0.05\n",
      "dt4 -0.33\n",
      "dt5 -0.2\n",
      "dt6 -0.22\n"
     ]
    }
   ],
   "source": [
    "#using same algorithm\n",
    "dt1 = DecisionTreeRegressor(max_depth=3)\n",
    "dt2 = DecisionTreeRegressor(max_depth=5)\n",
    "dt3 = DecisionTreeRegressor(max_depth=7)\n",
    "dt4 = DecisionTreeRegressor(max_depth=9)\n",
    "dt5 = DecisionTreeRegressor(max_depth=12)\n",
    "dt6 = DecisionTreeRegressor(max_depth=None)\n",
    "\n",
    "estimators = [\n",
    "    ('dt1', dt1),\n",
    "    ('dt2', dt2),\n",
    "    ('dt3', dt3),\n",
    "    ('dt4', dt4),\n",
    "    ('dt5', dt5),\n",
    "    ('dt6', dt6)\n",
    "]\n",
    "\n",
    "for estimator in estimators:\n",
    "  scores = cross_val_score(estimator[1],x,y,scoring='r2',cv=10)\n",
    "  print(estimator[0],np.round(np.mean(scores),2))"
   ]
  },
  {
   "cell_type": "code",
   "execution_count": 14,
   "id": "f00d2384",
   "metadata": {},
   "outputs": [
    {
     "name": "stdout",
     "output_type": "stream",
     "text": [
      "0.1\n"
     ]
    }
   ],
   "source": [
    "vr1 = VotingRegressor(estimators=estimators)\n",
    "score = cross_val_score(vr1,x,y,scoring='r2',cv = 10)\n",
    "print(np.round(np.mean(score),2))"
   ]
  },
  {
   "cell_type": "code",
   "execution_count": null,
   "id": "50a51994",
   "metadata": {},
   "outputs": [
    {
     "name": "stdout",
     "output_type": "stream",
     "text": [
      "for i =1, j = 1, k = 1, l = 1, m = 1, n = 1 0.12\n",
      "for i =1, j = 1, k = 1, l = 1, m = 1, n = 2 0.11\n",
      "for i =1, j = 1, k = 1, l = 1, m = 2, n = 1 0.11\n",
      "for i =1, j = 1, k = 1, l = 1, m = 2, n = 2 0.08\n",
      "for i =1, j = 1, k = 1, l = 2, m = 1, n = 1 0.09\n",
      "for i =1, j = 1, k = 1, l = 2, m = 1, n = 2 0.08\n",
      "for i =1, j = 1, k = 1, l = 2, m = 2, n = 1 0.1\n",
      "for i =1, j = 1, k = 1, l = 2, m = 2, n = 2 0.07\n",
      "for i =1, j = 1, k = 2, l = 1, m = 1, n = 1 0.09\n",
      "for i =1, j = 1, k = 2, l = 1, m = 1, n = 2 0.1\n",
      "for i =1, j = 1, k = 2, l = 1, m = 2, n = 1 0.1\n",
      "for i =1, j = 1, k = 2, l = 1, m = 2, n = 2 0.09\n",
      "for i =1, j = 1, k = 2, l = 2, m = 1, n = 1 0.13\n",
      "for i =1, j = 1, k = 2, l = 2, m = 1, n = 2 0.09\n",
      "for i =1, j = 1, k = 2, l = 2, m = 2, n = 1 0.09\n",
      "for i =1, j = 1, k = 2, l = 2, m = 2, n = 2 0.04\n",
      "for i =1, j = 2, k = 1, l = 1, m = 1, n = 1 0.13\n",
      "for i =1, j = 2, k = 1, l = 1, m = 1, n = 2 0.05\n",
      "for i =1, j = 2, k = 1, l = 1, m = 2, n = 1 0.08\n",
      "for i =1, j = 2, k = 1, l = 1, m = 2, n = 2 0.08\n",
      "for i =1, j = 2, k = 1, l = 2, m = 1, n = 1 0.12\n",
      "for i =1, j = 2, k = 1, l = 2, m = 1, n = 2 0.13\n",
      "for i =1, j = 2, k = 1, l = 2, m = 2, n = 1 0.07\n",
      "for i =1, j = 2, k = 1, l = 2, m = 2, n = 2 0.08\n",
      "for i =1, j = 2, k = 2, l = 1, m = 1, n = 1 0.13\n",
      "for i =1, j = 2, k = 2, l = 1, m = 1, n = 2 0.13\n",
      "for i =1, j = 2, k = 2, l = 1, m = 2, n = 1 0.08\n",
      "for i =1, j = 2, k = 2, l = 1, m = 2, n = 2 0.09\n",
      "for i =1, j = 2, k = 2, l = 2, m = 1, n = 1 0.09\n",
      "for i =1, j = 2, k = 2, l = 2, m = 1, n = 2 0.13\n",
      "for i =1, j = 2, k = 2, l = 2, m = 2, n = 1 0.08\n",
      "for i =1, j = 2, k = 2, l = 2, m = 2, n = 2 0.09\n",
      "for i =2, j = 1, k = 1, l = 1, m = 1, n = 1 0.09\n",
      "for i =2, j = 1, k = 1, l = 1, m = 1, n = 2 0.15\n",
      "for i =2, j = 1, k = 1, l = 1, m = 2, n = 1 0.15\n",
      "for i =2, j = 1, k = 1, l = 1, m = 2, n = 2 0.13\n",
      "for i =2, j = 1, k = 1, l = 2, m = 1, n = 1 0.14\n",
      "for i =2, j = 1, k = 1, l = 2, m = 1, n = 2 0.13\n",
      "for i =2, j = 1, k = 1, l = 2, m = 2, n = 1 0.09\n",
      "for i =2, j = 1, k = 1, l = 2, m = 2, n = 2 0.09\n",
      "for i =2, j = 1, k = 2, l = 1, m = 1, n = 1 0.11\n",
      "for i =2, j = 1, k = 2, l = 1, m = 1, n = 2 0.1\n",
      "for i =2, j = 1, k = 2, l = 1, m = 2, n = 1 0.15\n",
      "for i =2, j = 1, k = 2, l = 1, m = 2, n = 2 0.09\n",
      "for i =2, j = 1, k = 2, l = 2, m = 1, n = 1 0.02\n",
      "for i =2, j = 1, k = 2, l = 2, m = 1, n = 2 0.08\n",
      "for i =2, j = 1, k = 2, l = 2, m = 2, n = 1 0.08\n",
      "for i =2, j = 1, k = 2, l = 2, m = 2, n = 2 0.11\n",
      "for i =2, j = 2, k = 1, l = 1, m = 1, n = 1 0.09\n",
      "for i =2, j = 2, k = 1, l = 1, m = 1, n = 2 0.13\n",
      "for i =2, j = 2, k = 1, l = 1, m = 2, n = 1 0.13\n",
      "for i =2, j = 2, k = 1, l = 1, m = 2, n = 2 0.12\n",
      "for i =2, j = 2, k = 1, l = 2, m = 1, n = 1 0.13\n",
      "for i =2, j = 2, k = 1, l = 2, m = 1, n = 2 0.13\n",
      "for i =2, j = 2, k = 1, l = 2, m = 2, n = 1 0.12\n",
      "for i =2, j = 2, k = 1, l = 2, m = 2, n = 2 0.11\n",
      "for i =2, j = 2, k = 2, l = 1, m = 1, n = 1 0.09\n",
      "for i =2, j = 2, k = 2, l = 1, m = 1, n = 2 0.1\n",
      "for i =2, j = 2, k = 2, l = 1, m = 2, n = 1 0.14\n",
      "for i =2, j = 2, k = 2, l = 1, m = 2, n = 2 0.13\n",
      "for i =2, j = 2, k = 2, l = 2, m = 1, n = 1 0.14\n",
      "for i =2, j = 2, k = 2, l = 2, m = 1, n = 2 0.1\n",
      "for i =2, j = 2, k = 2, l = 2, m = 2, n = 1 0.12\n",
      "for i =2, j = 2, k = 2, l = 2, m = 2, n = 2 0.11\n"
     ]
    }
   ],
   "source": [
    "for i in range(1,3):\n",
    "  for j in range(1,3):\n",
    "    for k in range(1,3):\n",
    "      for l in range(1,3):\n",
    "        for m in range(1,3):\n",
    "          for n in range(1,3):\n",
    "            vr1 = VotingRegressor(estimators,weights=[i,j,k,l,m,n])\n",
    "            scores = cross_val_score(vr1,x,y,scoring='r2',cv=10)\n",
    "            print(f\"for i ={i}, j = {j}, k = {k}, l = {l}, m = {m}, n = {n}\",np.round(np.mean(scores),2))"
   ]
  },
  {
   "cell_type": "code",
   "execution_count": null,
   "id": "b7732306",
   "metadata": {},
   "outputs": [],
   "source": []
  }
 ],
 "metadata": {
  "kernelspec": {
   "display_name": "Python 3",
   "language": "python",
   "name": "python3"
  },
  "language_info": {
   "codemirror_mode": {
    "name": "ipython",
    "version": 3
   },
   "file_extension": ".py",
   "mimetype": "text/x-python",
   "name": "python",
   "nbconvert_exporter": "python",
   "pygments_lexer": "ipython3",
   "version": "3.11.9"
  }
 },
 "nbformat": 4,
 "nbformat_minor": 5
}
