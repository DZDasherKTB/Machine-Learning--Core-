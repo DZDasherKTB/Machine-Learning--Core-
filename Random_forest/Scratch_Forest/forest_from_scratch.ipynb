{
 "cells": [
  {
   "cell_type": "code",
   "execution_count": 59,
   "id": "d291bdba",
   "metadata": {},
   "outputs": [],
   "source": [
    "import random\n",
    "import numpy as np\n",
    "import pandas as pd\n",
    "from sklearn.tree import DecisionTreeClassifier\n",
    "from sklearn.metrics import r2_score"
   ]
  },
  {
   "cell_type": "code",
   "execution_count": 60,
   "id": "e1538a9b",
   "metadata": {},
   "outputs": [],
   "source": [
    "# Feature sampling\n",
    "def sample_features(df, percent):\n",
    "    cols = random.sample(df.columns.tolist()[:-1], int(percent * (df.shape[1] - 1)))\n",
    "    return df[cols + [df.columns[-1]]]\n",
    "\n",
    "# Row sampling\n",
    "def sample_rows(df):\n",
    "    return df.sample(frac=1, replace=True).reset_index(drop=True)"
   ]
  },
  {
   "cell_type": "code",
   "execution_count": 61,
   "id": "604f6170",
   "metadata": {},
   "outputs": [],
   "source": [
    "class RandomForestClassifierSimple:\n",
    "    def __init__(self, n_estimators=30, max_features=0.8, max_depth=None):\n",
    "        self.n_estimators = n_estimators\n",
    "        self.max_features = max_features\n",
    "        self.max_depth = max_depth\n",
    "        self.models = [] \n",
    "\n",
    "    def fit(self, df):\n",
    "        self.models = []\n",
    "\n",
    "        for _ in range(self.n_estimators):\n",
    "            sampled_df = sample_rows(df)\n",
    "            feature_df = sample_features(sampled_df, self.max_features)\n",
    "\n",
    "            X = feature_df.iloc[:, :-1]\n",
    "            y = feature_df.iloc[:, -1]\n",
    "\n",
    "            tree = DecisionTreeClassifier(max_depth=self.max_depth)\n",
    "            tree.fit(X, y)\n",
    "\n",
    "            features_used = X.columns.tolist()\n",
    "            self.models.append((tree, features_used))\n",
    "\n",
    "    def predict(self, X):\n",
    "        tree_preds = []\n",
    "\n",
    "        for tree, features in self.models:\n",
    "            preds = tree.predict(X[features])\n",
    "            tree_preds.append(preds)\n",
    "\n",
    "        tree_preds = np.array(tree_preds)\n",
    "        final_preds = []\n",
    "\n",
    "        for i in range(X.shape[0]):\n",
    "            counts = np.bincount(tree_preds[:, i])\n",
    "            final_preds.append(np.argmax(counts))\n",
    "\n",
    "        return np.array(final_preds)\n",
    "\n",
    "    def score(self, X, y):\n",
    "        y_pred = self.predict(X)\n",
    "        return r2_score(y, y_pred)"
   ]
  },
  {
   "cell_type": "code",
   "execution_count": 70,
   "id": "f8fbd3cf",
   "metadata": {},
   "outputs": [],
   "source": [
    "from sklearn.datasets import load_wine\n",
    "from sklearn.model_selection import train_test_split\n",
    "import matplotlib.pyplot as plt\n",
    "from matplotlib.colors import ListedColormap\n",
    "from sklearn.ensemble import RandomForestClassifier"
   ]
  },
  {
   "cell_type": "code",
   "execution_count": 63,
   "id": "2db4739f",
   "metadata": {},
   "outputs": [],
   "source": [
    "data = load_wine()\n",
    "X = pd.DataFrame(data.data, columns=data.feature_names)\n",
    "y = pd.Series(data.target, name='target')\n",
    "df = pd.concat([X, y], axis=1)\n"
   ]
  },
  {
   "cell_type": "code",
   "execution_count": 64,
   "id": "bed4b462",
   "metadata": {},
   "outputs": [],
   "source": [
    "train_df, test_df = train_test_split(df, test_size=0.2, random_state=42)"
   ]
  },
  {
   "cell_type": "code",
   "execution_count": 65,
   "id": "e00f580e",
   "metadata": {},
   "outputs": [],
   "source": [
    "X_train = train_df.iloc[:, :-1]\n",
    "y_train = train_df.iloc[:, -1]\n",
    "X_test = test_df.iloc[:, :-1]\n",
    "y_test = test_df.iloc[:, -1]"
   ]
  },
  {
   "cell_type": "code",
   "execution_count": 66,
   "id": "0879ef04",
   "metadata": {},
   "outputs": [],
   "source": [
    "clf = DecisionTreeClassifier()\n",
    "clf.fit(X_train, y_train)\n",
    "y_pred_tree = clf.predict(X_test)\n",
    "acc_tree = r2_score(y_test, y_pred_tree)"
   ]
  },
  {
   "cell_type": "code",
   "execution_count": 67,
   "id": "f0a75acc",
   "metadata": {},
   "outputs": [],
   "source": [
    "rf = RandomForestClassifierSimple(n_estimators=10, max_features=0.6)\n",
    "rf.fit(train_df)\n",
    "y_pred_rf = rf.predict(X_test)\n",
    "acc_rf = r2_score(y_test, y_pred_rf)"
   ]
  },
  {
   "cell_type": "code",
   "execution_count": 72,
   "id": "9da22695",
   "metadata": {},
   "outputs": [],
   "source": [
    "sklearnRF = RandomForestClassifier(n_estimators=10,max_features=0.6)\n",
    "sklearnRF.fit(X_train,y_train)\n",
    "y_pred_sklearnRF = sklearnRF.predict(X_test)\n",
    "acc_sklearnRF = r2_score(y_test, y_pred_sklearnRF)"
   ]
  },
  {
   "cell_type": "code",
   "execution_count": 76,
   "id": "14501a57",
   "metadata": {},
   "outputs": [
    {
     "data": {
      "image/png": "[encoded data removed]",
      "text/plain": [
       "<Figure size 600x400 with 1 Axes>"
      ]
     },
     "metadata": {},
     "output_type": "display_data"
    }
   ],
   "source": [
    "plt.figure(figsize=(6, 4))\n",
    "plt.bar(['Decision Tree', 'Custom Forest',\"SkLearn Forest\"], [acc_tree, acc_rf, acc_sklearnRF], color=['orange', 'green','blue'])\n",
    "plt.title('Model R2_Score Comparison')\n",
    "plt.ylabel('R2_Score')\n",
    "plt.ylim(0, 1)\n",
    "plt.grid(axis='y', linestyle='--', alpha=0.7)\n",
    "plt.show()"
   ]
  },
  {
   "cell_type": "code",
   "execution_count": null,
   "id": "13f948b5",
   "metadata": {},
   "outputs": [],
   "source": []
  }
 ],
 "metadata": {
  "kernelspec": {
   "display_name": "Python 3",
   "language": "python",
   "name": "python3"
  },
  "language_info": {
   "codemirror_mode": {
    "name": "ipython",
    "version": 3
   },
   "file_extension": ".py",
   "mimetype": "text/x-python",
   "name": "python",
   "nbconvert_exporter": "python",
   "pygments_lexer": "ipython3",
   "version": "3.11.9"
  }
 },
 "nbformat": 4,
 "nbformat_minor": 5
}
